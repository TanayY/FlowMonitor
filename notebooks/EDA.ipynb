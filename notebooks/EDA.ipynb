{
 "cells": [
  {
   "cell_type": "code",
   "execution_count": 39,
   "metadata": {},
   "outputs": [],
   "source": [
    "import pandas as pd\n",
    "import numpy as np\n",
    "import matplotlib.pyplot as plt\n",
    "import seaborn as sns"
   ]
  },
  {
   "cell_type": "markdown",
   "metadata": {},
   "source": [
    "# Reading Data\n"
   ]
  },
  {
   "cell_type": "code",
   "execution_count": 40,
   "metadata": {},
   "outputs": [],
   "source": [
    "df = pd.read_csv(\"../data/raw/train.csv\")"
   ]
  },
  {
   "cell_type": "code",
   "execution_count": 41,
   "metadata": {},
   "outputs": [
    {
     "data": {
      "application/vnd.microsoft.datawrangler.viewer.v0+json": {
       "columns": [
        {
         "name": "index",
         "rawType": "int64",
         "type": "integer"
        },
        {
         "name": "Timestamp",
         "rawType": "object",
         "type": "string"
        },
        {
         "name": "Residents",
         "rawType": "int64",
         "type": "integer"
        },
        {
         "name": "Apartment_Type",
         "rawType": "object",
         "type": "unknown"
        },
        {
         "name": "Temperature",
         "rawType": "float64",
         "type": "float"
        },
        {
         "name": "Humidity",
         "rawType": "object",
         "type": "string"
        },
        {
         "name": "Water_Price",
         "rawType": "float64",
         "type": "float"
        },
        {
         "name": "Period_Consumption_Index",
         "rawType": "float64",
         "type": "float"
        },
        {
         "name": "Income_Level",
         "rawType": "object",
         "type": "string"
        },
        {
         "name": "Guests",
         "rawType": "int64",
         "type": "integer"
        },
        {
         "name": "Amenities",
         "rawType": "object",
         "type": "unknown"
        },
        {
         "name": "Appliance_Usage",
         "rawType": "float64",
         "type": "float"
        },
        {
         "name": "Water_Consumption",
         "rawType": "float64",
         "type": "float"
        }
       ],
       "conversionMethod": "pd.DataFrame",
       "ref": "177441ea-45bb-45cc-a314-d3611b7edc86",
       "rows": [
        [
         "0",
         "01/01/2002 00",
         "1",
         "Studio",
         "15.31",
         "46.61",
         "1.06",
         "0.97",
         "Low",
         "0",
         "Swimming Pool",
         "0.0",
         "64.85"
        ],
        [
         "1",
         "01/01/2002 08",
         "4",
         null,
         "21.01",
         "66.11",
         "2.98",
         "0.91",
         "Upper Middle",
         "1",
         "Swimming Pool",
         "1.0",
         "192.5"
        ],
        [
         "2",
         "01/01/2002 16",
         "2",
         "Cottage",
         "12.86",
         "60.86",
         "1.44",
         "1.43",
         "Middle",
         "0",
         null,
         "1.0",
         "116.62"
        ],
        [
         "3",
         "02/01/2002 00",
         "2",
         "1BHK",
         "20.16",
         "50.58",
         "1.48",
         "0.91",
         "Middle",
         "-1",
         "Garden",
         "0.0",
         "76.96"
        ],
        [
         "4",
         "02/01/2002 08",
         "2",
         "Cottage",
         "16.23",
         "52.25",
         "1.14",
         "1.11",
         "Middle",
         "0",
         "Fountain",
         "0.0",
         "104.7"
        ]
       ],
       "shape": {
        "columns": 12,
        "rows": 5
       }
      },
      "text/html": [
       "<div>\n",
       "<style scoped>\n",
       "    .dataframe tbody tr th:only-of-type {\n",
       "        vertical-align: middle;\n",
       "    }\n",
       "\n",
       "    .dataframe tbody tr th {\n",
       "        vertical-align: top;\n",
       "    }\n",
       "\n",
       "    .dataframe thead th {\n",
       "        text-align: right;\n",
       "    }\n",
       "</style>\n",
       "<table border=\"1\" class=\"dataframe\">\n",
       "  <thead>\n",
       "    <tr style=\"text-align: right;\">\n",
       "      <th></th>\n",
       "      <th>Timestamp</th>\n",
       "      <th>Residents</th>\n",
       "      <th>Apartment_Type</th>\n",
       "      <th>Temperature</th>\n",
       "      <th>Humidity</th>\n",
       "      <th>Water_Price</th>\n",
       "      <th>Period_Consumption_Index</th>\n",
       "      <th>Income_Level</th>\n",
       "      <th>Guests</th>\n",
       "      <th>Amenities</th>\n",
       "      <th>Appliance_Usage</th>\n",
       "      <th>Water_Consumption</th>\n",
       "    </tr>\n",
       "  </thead>\n",
       "  <tbody>\n",
       "    <tr>\n",
       "      <th>0</th>\n",
       "      <td>01/01/2002 00</td>\n",
       "      <td>1</td>\n",
       "      <td>Studio</td>\n",
       "      <td>15.31</td>\n",
       "      <td>46.61</td>\n",
       "      <td>1.06</td>\n",
       "      <td>0.97</td>\n",
       "      <td>Low</td>\n",
       "      <td>0</td>\n",
       "      <td>Swimming Pool</td>\n",
       "      <td>0.0</td>\n",
       "      <td>64.85</td>\n",
       "    </tr>\n",
       "    <tr>\n",
       "      <th>1</th>\n",
       "      <td>01/01/2002 08</td>\n",
       "      <td>4</td>\n",
       "      <td>NaN</td>\n",
       "      <td>21.01</td>\n",
       "      <td>66.11</td>\n",
       "      <td>2.98</td>\n",
       "      <td>0.91</td>\n",
       "      <td>Upper Middle</td>\n",
       "      <td>1</td>\n",
       "      <td>Swimming Pool</td>\n",
       "      <td>1.0</td>\n",
       "      <td>192.50</td>\n",
       "    </tr>\n",
       "    <tr>\n",
       "      <th>2</th>\n",
       "      <td>01/01/2002 16</td>\n",
       "      <td>2</td>\n",
       "      <td>Cottage</td>\n",
       "      <td>12.86</td>\n",
       "      <td>60.86</td>\n",
       "      <td>1.44</td>\n",
       "      <td>1.43</td>\n",
       "      <td>Middle</td>\n",
       "      <td>0</td>\n",
       "      <td>NaN</td>\n",
       "      <td>1.0</td>\n",
       "      <td>116.62</td>\n",
       "    </tr>\n",
       "    <tr>\n",
       "      <th>3</th>\n",
       "      <td>02/01/2002 00</td>\n",
       "      <td>2</td>\n",
       "      <td>1BHK</td>\n",
       "      <td>20.16</td>\n",
       "      <td>50.58</td>\n",
       "      <td>1.48</td>\n",
       "      <td>0.91</td>\n",
       "      <td>Middle</td>\n",
       "      <td>-1</td>\n",
       "      <td>Garden</td>\n",
       "      <td>0.0</td>\n",
       "      <td>76.96</td>\n",
       "    </tr>\n",
       "    <tr>\n",
       "      <th>4</th>\n",
       "      <td>02/01/2002 08</td>\n",
       "      <td>2</td>\n",
       "      <td>Cottage</td>\n",
       "      <td>16.23</td>\n",
       "      <td>52.25</td>\n",
       "      <td>1.14</td>\n",
       "      <td>1.11</td>\n",
       "      <td>Middle</td>\n",
       "      <td>0</td>\n",
       "      <td>Fountain</td>\n",
       "      <td>0.0</td>\n",
       "      <td>104.70</td>\n",
       "    </tr>\n",
       "  </tbody>\n",
       "</table>\n",
       "</div>"
      ],
      "text/plain": [
       "       Timestamp  Residents Apartment_Type  Temperature Humidity  Water_Price  \\\n",
       "0  01/01/2002 00          1         Studio        15.31    46.61         1.06   \n",
       "1  01/01/2002 08          4            NaN        21.01    66.11         2.98   \n",
       "2  01/01/2002 16          2        Cottage        12.86    60.86         1.44   \n",
       "3  02/01/2002 00          2           1BHK        20.16    50.58         1.48   \n",
       "4  02/01/2002 08          2        Cottage        16.23    52.25         1.14   \n",
       "\n",
       "   Period_Consumption_Index  Income_Level  Guests      Amenities  \\\n",
       "0                      0.97           Low       0  Swimming Pool   \n",
       "1                      0.91  Upper Middle       1  Swimming Pool   \n",
       "2                      1.43        Middle       0            NaN   \n",
       "3                      0.91        Middle      -1         Garden   \n",
       "4                      1.11        Middle       0       Fountain   \n",
       "\n",
       "   Appliance_Usage  Water_Consumption  \n",
       "0              0.0              64.85  \n",
       "1              1.0             192.50  \n",
       "2              1.0             116.62  \n",
       "3              0.0              76.96  \n",
       "4              0.0             104.70  "
      ]
     },
     "execution_count": 41,
     "metadata": {},
     "output_type": "execute_result"
    }
   ],
   "source": [
    "df.head()"
   ]
  },
  {
   "cell_type": "markdown",
   "metadata": {},
   "source": [
    "# Understanding Data\n",
    "\n",
    "| Column name              | Description                                                  |\n",
    "| ------------------------ | ------------------------------------------------------------ |\n",
    "| Timestamp                | Represents a unique timestamp of an entry                    |\n",
    "| Residents                | Represents the number of people living in the household      |\n",
    "| Apartment_Type           | Represents the type of apartment                             |\n",
    "| Temperature              | Represents the average temperature of that time period       |\n",
    "| Humidity                 | Represents the average humidity of that time period          |\n",
    "| Water_Price              | Represents the water price for that time period              |\n",
    "| Period_Consumption_Index | Represents the relative water usage for each 8-hour period   |\n",
    "| Income_Level             | Represents the income level of household                     |\n",
    "| Guests                   | Represents the number of guests                              |\n",
    "| Amenities                | Represents the types of amenities available in the household |\n",
    "| Appliance_Usage          | Represents whether water appliances are being used or not    |\n",
    "| Water_Consumption        | Represents the consumption of water in that period           |\n"
   ]
  },
  {
   "cell_type": "code",
   "execution_count": 42,
   "metadata": {},
   "outputs": [
    {
     "name": "stdout",
     "output_type": "stream",
     "text": [
      "<class 'pandas.core.frame.DataFrame'>\n",
      "RangeIndex: 14000 entries, 0 to 13999\n",
      "Data columns (total 12 columns):\n",
      " #   Column                    Non-Null Count  Dtype  \n",
      "---  ------                    --------------  -----  \n",
      " 0   Timestamp                 14000 non-null  object \n",
      " 1   Residents                 14000 non-null  int64  \n",
      " 2   Apartment_Type            13574 non-null  object \n",
      " 3   Temperature               13559 non-null  float64\n",
      " 4   Humidity                  14000 non-null  object \n",
      " 5   Water_Price               14000 non-null  float64\n",
      " 6   Period_Consumption_Index  14000 non-null  float64\n",
      " 7   Income_Level              13574 non-null  object \n",
      " 8   Guests                    14000 non-null  int64  \n",
      " 9   Amenities                 8003 non-null   object \n",
      " 10  Appliance_Usage           13585 non-null  float64\n",
      " 11  Water_Consumption         14000 non-null  float64\n",
      "dtypes: float64(5), int64(2), object(5)\n",
      "memory usage: 1.3+ MB\n"
     ]
    }
   ],
   "source": [
    "df.info()"
   ]
  },
  {
   "cell_type": "markdown",
   "metadata": {},
   "source": [
    "🔍 Observations:\n",
    "\n",
    "1. There are a total of 14000 entries\n",
    "2. Some columns have missing values\n",
    "3. There are 10 features and 1 target variable\n",
    "4. Categorical Features include - Apartment_Type, Income_Level, Ameneties, Applicane Usage (Yes/No)\n",
    "5. Numerical Features include - Residents, Tempetature, Humidity, Water_Price, Period_Consumption_Index, Guests\n",
    "6. Target Variable - Water_Consumption\n"
   ]
  },
  {
   "cell_type": "markdown",
   "metadata": {},
   "source": [
    "## Univariate Analysis\n"
   ]
  },
  {
   "cell_type": "markdown",
   "metadata": {},
   "source": [
    "### Timestamp\n"
   ]
  },
  {
   "cell_type": "code",
   "execution_count": 43,
   "metadata": {},
   "outputs": [
    {
     "name": "stdout",
     "output_type": "stream",
     "text": [
      "<class 'pandas.core.series.Series'>\n",
      "RangeIndex: 14000 entries, 0 to 13999\n",
      "Series name: Timestamp\n",
      "Non-Null Count  Dtype \n",
      "--------------  ----- \n",
      "14000 non-null  object\n",
      "dtypes: object(1)\n",
      "memory usage: 109.5+ KB\n"
     ]
    }
   ],
   "source": [
    "df[\"Timestamp\"].info()"
   ]
  },
  {
   "cell_type": "code",
   "execution_count": 44,
   "metadata": {},
   "outputs": [],
   "source": [
    "df[\"Timestamp\"] = pd.to_datetime(df[\"Timestamp\"], format=\"%d/%m/%Y %H\", errors=\"coerce\")"
   ]
  },
  {
   "cell_type": "code",
   "execution_count": 45,
   "metadata": {},
   "outputs": [
    {
     "name": "stdout",
     "output_type": "stream",
     "text": [
      "<class 'pandas.core.series.Series'>\n",
      "RangeIndex: 14000 entries, 0 to 13999\n",
      "Series name: Timestamp\n",
      "Non-Null Count  Dtype         \n",
      "--------------  -----         \n",
      "14000 non-null  datetime64[ns]\n",
      "dtypes: datetime64[ns](1)\n",
      "memory usage: 109.5 KB\n"
     ]
    }
   ],
   "source": [
    "df[\"Timestamp\"].info()"
   ]
  },
  {
   "cell_type": "code",
   "execution_count": 46,
   "metadata": {},
   "outputs": [],
   "source": [
    "# Seperating these out into two different columns - Date and Hour\n",
    "df[\"Date\"] = df[\"Timestamp\"].dt.date\n",
    "df[\"Hour\"] = df[\"Timestamp\"].dt.hour"
   ]
  },
  {
   "cell_type": "code",
   "execution_count": 47,
   "metadata": {},
   "outputs": [
    {
     "data": {
      "application/vnd.microsoft.datawrangler.viewer.v0+json": {
       "columns": [
        {
         "name": "index",
         "rawType": "int64",
         "type": "integer"
        },
        {
         "name": "Timestamp",
         "rawType": "datetime64[ns]",
         "type": "datetime"
        },
        {
         "name": "Date",
         "rawType": "object",
         "type": "unknown"
        },
        {
         "name": "Hour",
         "rawType": "int32",
         "type": "integer"
        }
       ],
       "conversionMethod": "pd.DataFrame",
       "ref": "d507c8c2-5426-4ea5-b565-b4d339312686",
       "rows": [
        [
         "0",
         "2002-01-01 00:00:00",
         "2002-01-01",
         "0"
        ],
        [
         "1",
         "2002-01-01 08:00:00",
         "2002-01-01",
         "8"
        ],
        [
         "2",
         "2002-01-01 16:00:00",
         "2002-01-01",
         "16"
        ],
        [
         "3",
         "2002-01-02 00:00:00",
         "2002-01-02",
         "0"
        ],
        [
         "4",
         "2002-01-02 08:00:00",
         "2002-01-02",
         "8"
        ],
        [
         "5",
         "2002-01-02 16:00:00",
         "2002-01-02",
         "16"
        ],
        [
         "6",
         "2002-01-03 00:00:00",
         "2002-01-03",
         "0"
        ],
        [
         "7",
         "2002-01-03 08:00:00",
         "2002-01-03",
         "8"
        ],
        [
         "8",
         "2002-01-03 16:00:00",
         "2002-01-03",
         "16"
        ],
        [
         "9",
         "2002-01-04 00:00:00",
         "2002-01-04",
         "0"
        ],
        [
         "10",
         "2002-01-04 08:00:00",
         "2002-01-04",
         "8"
        ],
        [
         "11",
         "2002-01-04 16:00:00",
         "2002-01-04",
         "16"
        ],
        [
         "12",
         "2002-01-05 00:00:00",
         "2002-01-05",
         "0"
        ],
        [
         "13",
         "2002-01-05 08:00:00",
         "2002-01-05",
         "8"
        ],
        [
         "14",
         "2002-01-05 16:00:00",
         "2002-01-05",
         "16"
        ],
        [
         "15",
         "2002-01-06 00:00:00",
         "2002-01-06",
         "0"
        ],
        [
         "16",
         "2002-01-06 08:00:00",
         "2002-01-06",
         "8"
        ],
        [
         "17",
         "2002-01-06 16:00:00",
         "2002-01-06",
         "16"
        ],
        [
         "18",
         "2002-01-07 00:00:00",
         "2002-01-07",
         "0"
        ],
        [
         "19",
         "2002-01-07 08:00:00",
         "2002-01-07",
         "8"
        ],
        [
         "20",
         "2002-01-07 16:00:00",
         "2002-01-07",
         "16"
        ],
        [
         "21",
         "2002-01-08 00:00:00",
         "2002-01-08",
         "0"
        ],
        [
         "22",
         "2002-01-08 08:00:00",
         "2002-01-08",
         "8"
        ],
        [
         "23",
         "2002-01-08 16:00:00",
         "2002-01-08",
         "16"
        ],
        [
         "24",
         "2002-01-09 00:00:00",
         "2002-01-09",
         "0"
        ],
        [
         "25",
         "2002-01-09 08:00:00",
         "2002-01-09",
         "8"
        ],
        [
         "26",
         "2002-01-09 16:00:00",
         "2002-01-09",
         "16"
        ],
        [
         "27",
         "2002-01-10 00:00:00",
         "2002-01-10",
         "0"
        ],
        [
         "28",
         "2002-01-10 08:00:00",
         "2002-01-10",
         "8"
        ],
        [
         "29",
         "2002-01-10 16:00:00",
         "2002-01-10",
         "16"
        ],
        [
         "30",
         "2002-01-11 00:00:00",
         "2002-01-11",
         "0"
        ],
        [
         "31",
         "2002-01-11 08:00:00",
         "2002-01-11",
         "8"
        ],
        [
         "32",
         "2002-01-11 16:00:00",
         "2002-01-11",
         "16"
        ],
        [
         "33",
         "2002-01-12 00:00:00",
         "2002-01-12",
         "0"
        ],
        [
         "34",
         "2002-01-12 08:00:00",
         "2002-01-12",
         "8"
        ],
        [
         "35",
         "2002-01-12 16:00:00",
         "2002-01-12",
         "16"
        ],
        [
         "36",
         "2002-01-13 00:00:00",
         "2002-01-13",
         "0"
        ],
        [
         "37",
         "2002-01-13 08:00:00",
         "2002-01-13",
         "8"
        ],
        [
         "38",
         "2002-01-13 16:00:00",
         "2002-01-13",
         "16"
        ],
        [
         "39",
         "2002-01-14 00:00:00",
         "2002-01-14",
         "0"
        ],
        [
         "40",
         "2002-01-14 08:00:00",
         "2002-01-14",
         "8"
        ],
        [
         "41",
         "2002-01-14 16:00:00",
         "2002-01-14",
         "16"
        ],
        [
         "42",
         "2002-01-15 00:00:00",
         "2002-01-15",
         "0"
        ],
        [
         "43",
         "2002-01-15 08:00:00",
         "2002-01-15",
         "8"
        ],
        [
         "44",
         "2002-01-15 16:00:00",
         "2002-01-15",
         "16"
        ],
        [
         "45",
         "2002-01-16 00:00:00",
         "2002-01-16",
         "0"
        ],
        [
         "46",
         "2002-01-16 08:00:00",
         "2002-01-16",
         "8"
        ],
        [
         "47",
         "2002-01-16 16:00:00",
         "2002-01-16",
         "16"
        ],
        [
         "48",
         "2002-01-17 00:00:00",
         "2002-01-17",
         "0"
        ],
        [
         "49",
         "2002-01-17 08:00:00",
         "2002-01-17",
         "8"
        ]
       ],
       "shape": {
        "columns": 3,
        "rows": 14000
       }
      },
      "text/html": [
       "<div>\n",
       "<style scoped>\n",
       "    .dataframe tbody tr th:only-of-type {\n",
       "        vertical-align: middle;\n",
       "    }\n",
       "\n",
       "    .dataframe tbody tr th {\n",
       "        vertical-align: top;\n",
       "    }\n",
       "\n",
       "    .dataframe thead th {\n",
       "        text-align: right;\n",
       "    }\n",
       "</style>\n",
       "<table border=\"1\" class=\"dataframe\">\n",
       "  <thead>\n",
       "    <tr style=\"text-align: right;\">\n",
       "      <th></th>\n",
       "      <th>Timestamp</th>\n",
       "      <th>Date</th>\n",
       "      <th>Hour</th>\n",
       "    </tr>\n",
       "  </thead>\n",
       "  <tbody>\n",
       "    <tr>\n",
       "      <th>0</th>\n",
       "      <td>2002-01-01 00:00:00</td>\n",
       "      <td>2002-01-01</td>\n",
       "      <td>0</td>\n",
       "    </tr>\n",
       "    <tr>\n",
       "      <th>1</th>\n",
       "      <td>2002-01-01 08:00:00</td>\n",
       "      <td>2002-01-01</td>\n",
       "      <td>8</td>\n",
       "    </tr>\n",
       "    <tr>\n",
       "      <th>2</th>\n",
       "      <td>2002-01-01 16:00:00</td>\n",
       "      <td>2002-01-01</td>\n",
       "      <td>16</td>\n",
       "    </tr>\n",
       "    <tr>\n",
       "      <th>3</th>\n",
       "      <td>2002-01-02 00:00:00</td>\n",
       "      <td>2002-01-02</td>\n",
       "      <td>0</td>\n",
       "    </tr>\n",
       "    <tr>\n",
       "      <th>4</th>\n",
       "      <td>2002-01-02 08:00:00</td>\n",
       "      <td>2002-01-02</td>\n",
       "      <td>8</td>\n",
       "    </tr>\n",
       "    <tr>\n",
       "      <th>...</th>\n",
       "      <td>...</td>\n",
       "      <td>...</td>\n",
       "      <td>...</td>\n",
       "    </tr>\n",
       "    <tr>\n",
       "      <th>13995</th>\n",
       "      <td>2014-10-10 00:00:00</td>\n",
       "      <td>2014-10-10</td>\n",
       "      <td>0</td>\n",
       "    </tr>\n",
       "    <tr>\n",
       "      <th>13996</th>\n",
       "      <td>2014-10-10 08:00:00</td>\n",
       "      <td>2014-10-10</td>\n",
       "      <td>8</td>\n",
       "    </tr>\n",
       "    <tr>\n",
       "      <th>13997</th>\n",
       "      <td>2014-10-10 16:00:00</td>\n",
       "      <td>2014-10-10</td>\n",
       "      <td>16</td>\n",
       "    </tr>\n",
       "    <tr>\n",
       "      <th>13998</th>\n",
       "      <td>2014-10-11 00:00:00</td>\n",
       "      <td>2014-10-11</td>\n",
       "      <td>0</td>\n",
       "    </tr>\n",
       "    <tr>\n",
       "      <th>13999</th>\n",
       "      <td>2014-10-11 08:00:00</td>\n",
       "      <td>2014-10-11</td>\n",
       "      <td>8</td>\n",
       "    </tr>\n",
       "  </tbody>\n",
       "</table>\n",
       "<p>14000 rows × 3 columns</p>\n",
       "</div>"
      ],
      "text/plain": [
       "                Timestamp        Date  Hour\n",
       "0     2002-01-01 00:00:00  2002-01-01     0\n",
       "1     2002-01-01 08:00:00  2002-01-01     8\n",
       "2     2002-01-01 16:00:00  2002-01-01    16\n",
       "3     2002-01-02 00:00:00  2002-01-02     0\n",
       "4     2002-01-02 08:00:00  2002-01-02     8\n",
       "...                   ...         ...   ...\n",
       "13995 2014-10-10 00:00:00  2014-10-10     0\n",
       "13996 2014-10-10 08:00:00  2014-10-10     8\n",
       "13997 2014-10-10 16:00:00  2014-10-10    16\n",
       "13998 2014-10-11 00:00:00  2014-10-11     0\n",
       "13999 2014-10-11 08:00:00  2014-10-11     8\n",
       "\n",
       "[14000 rows x 3 columns]"
      ]
     },
     "execution_count": 47,
     "metadata": {},
     "output_type": "execute_result"
    }
   ],
   "source": [
    "df[[\"Timestamp\", \"Date\", \"Hour\"]]"
   ]
  },
  {
   "cell_type": "markdown",
   "metadata": {},
   "source": [
    "### Residents\n"
   ]
  },
  {
   "cell_type": "code",
   "execution_count": 48,
   "metadata": {},
   "outputs": [
    {
     "name": "stdout",
     "output_type": "stream",
     "text": [
      "<class 'pandas.core.series.Series'>\n",
      "RangeIndex: 14000 entries, 0 to 13999\n",
      "Series name: Residents\n",
      "Non-Null Count  Dtype\n",
      "--------------  -----\n",
      "14000 non-null  int64\n",
      "dtypes: int64(1)\n",
      "memory usage: 109.5 KB\n"
     ]
    }
   ],
   "source": [
    "df[\"Residents\"].info()"
   ]
  },
  {
   "cell_type": "code",
   "execution_count": 49,
   "metadata": {},
   "outputs": [
    {
     "data": {
      "text/plain": [
       "<Axes: xlabel='Residents', ylabel='Density'>"
      ]
     },
     "execution_count": 49,
     "metadata": {},
     "output_type": "execute_result"
    },
    {
     "data": {
      "image/png": "[encoded data removed]",
      "text/plain": [
       "<Figure size 640x480 with 1 Axes>"
      ]
     },
     "metadata": {},
     "output_type": "display_data"
    }
   ],
   "source": [
    "sns.kdeplot(df[\"Residents\"])"
   ]
  },
  {
   "cell_type": "code",
   "execution_count": 50,
   "metadata": {},
   "outputs": [
    {
     "name": "stdout",
     "output_type": "stream",
     "text": [
      "Percentage of rows having residents below or equal to 0 is: 2.0 %\n"
     ]
    }
   ],
   "source": [
    "print(\n",
    "    f\"Percentage of rows having residents below or equal to 0 is: {(len(df[df[\"Residents\"] <= 0]) / len(df)) * 100} %\"\n",
    ")"
   ]
  },
  {
   "cell_type": "markdown",
   "metadata": {},
   "source": [
    "Should we remove this 2% of data ?\n"
   ]
  },
  {
   "cell_type": "code",
   "execution_count": 51,
   "metadata": {},
   "outputs": [
    {
     "data": {
      "application/vnd.microsoft.datawrangler.viewer.v0+json": {
       "columns": [
        {
         "name": "index",
         "rawType": "int64",
         "type": "integer"
        },
        {
         "name": "Timestamp",
         "rawType": "datetime64[ns]",
         "type": "datetime"
        },
        {
         "name": "Residents",
         "rawType": "int64",
         "type": "integer"
        },
        {
         "name": "Apartment_Type",
         "rawType": "object",
         "type": "unknown"
        },
        {
         "name": "Temperature",
         "rawType": "float64",
         "type": "float"
        },
        {
         "name": "Humidity",
         "rawType": "object",
         "type": "string"
        },
        {
         "name": "Water_Price",
         "rawType": "float64",
         "type": "float"
        },
        {
         "name": "Period_Consumption_Index",
         "rawType": "float64",
         "type": "float"
        },
        {
         "name": "Income_Level",
         "rawType": "object",
         "type": "unknown"
        },
        {
         "name": "Guests",
         "rawType": "int64",
         "type": "integer"
        },
        {
         "name": "Amenities",
         "rawType": "object",
         "type": "unknown"
        },
        {
         "name": "Appliance_Usage",
         "rawType": "float64",
         "type": "float"
        },
        {
         "name": "Water_Consumption",
         "rawType": "float64",
         "type": "float"
        },
        {
         "name": "Date",
         "rawType": "object",
         "type": "unknown"
        },
        {
         "name": "Hour",
         "rawType": "int32",
         "type": "integer"
        }
       ],
       "conversionMethod": "pd.DataFrame",
       "ref": "acb5479f-3243-4ab0-98d1-81364659d569",
       "rows": [
        [
         "13",
         "2002-01-05 08:00:00",
         "-11",
         "Studio",
         "14.5",
         "70.0",
         "1.56",
         "1.14",
         "Low",
         "1",
         "Swimming Pool",
         "0.0",
         "75.05",
         "2002-01-05",
         "8"
        ],
        [
         "49",
         "2002-01-17 08:00:00",
         "-66",
         "Bungalow",
         "10.18",
         "48.38",
         "2.93",
         "1.36",
         "Upper Middle",
         "0",
         "Jacuzzi",
         "0.0",
         "175.97",
         "2002-01-17",
         "8"
        ],
        [
         "53",
         "2002-01-18 16:00:00",
         "-99",
         "Bungalow",
         "30.79",
         "42.0",
         "1.72",
         "1.33",
         "Upper Middle",
         "0",
         "Swimming Pool",
         "0.0",
         "319.47",
         "2002-01-18",
         "16"
        ],
        [
         "197",
         "2002-03-07 16:00:00",
         "-99",
         "1BHK",
         "19.12",
         "62.0",
         "1.6",
         "1.0",
         "Low",
         "0",
         "Swimming Pool",
         "0.0",
         "86.04",
         "2002-03-07",
         "16"
        ],
        [
         "211",
         "2002-03-12 08:00:00",
         "-88",
         "1BHK",
         "26.91",
         "68.6",
         "1.24",
         "1.41",
         "Middle",
         "1",
         null,
         "1.0",
         "147.66",
         "2002-03-12",
         "8"
        ],
        [
         "385",
         "2002-05-09 08:00:00",
         "-11",
         "2BHK",
         "17.88",
         "41.49",
         "1.65",
         "0.83",
         "Middle",
         "0",
         "Swimming Pool",
         "0.0",
         "120.77",
         "2002-05-09",
         "8"
        ],
        [
         "394",
         "2002-05-12 08:00:00",
         "-44",
         "1BHK",
         "27.0",
         "44.36",
         "1.66",
         "1.0",
         "Low",
         "1",
         null,
         "0.0",
         "95.66",
         "2002-05-12",
         "8"
        ],
        [
         "397",
         "2002-05-13 08:00:00",
         "-11",
         "1BHK",
         "15.63",
         "69.18",
         "1.73",
         "1.23",
         "Middle",
         "0",
         "Jacuzzi",
         "1.0",
         "118.56",
         "2002-05-13",
         "8"
        ],
        [
         "468",
         "2002-06-06 00:00:00",
         "-88",
         "2BHK",
         "13.34",
         "51.61",
         "1.06",
         "1.32",
         "Middle",
         "1",
         null,
         "0.0",
         "194.15",
         "2002-06-06",
         "0"
        ],
        [
         "538",
         "2002-06-29 08:00:00",
         "-55",
         "2BHK",
         "32.49",
         "49.94",
         "1.1",
         "0.84",
         "Middle",
         "0",
         "Fountain",
         "0.0",
         "145.84",
         "2002-06-29",
         "8"
        ],
        [
         "596",
         "2002-07-18 16:00:00",
         "-22",
         "Studio",
         "17.72",
         "60.88",
         "1.41",
         "1.0",
         "Low",
         "0",
         null,
         "0.0",
         "59.93",
         "2002-07-18",
         "16"
        ],
        [
         "709",
         "2002-08-25 08:00:00",
         "-55",
         "Bungalow",
         "27.25",
         "35.82",
         "2.56",
         "1.46",
         "Rich",
         "0",
         "Fountain",
         "0.0",
         "371.31",
         "2002-08-25",
         "8"
        ],
        [
         "751",
         "2002-09-08 08:00:00",
         "-55",
         "Bungalow",
         "28.26",
         "56.07",
         "2.84",
         "0.86",
         "Rich",
         "0",
         "Garden",
         "1.0",
         "166.04",
         "2002-09-08",
         "8"
        ],
        [
         "812",
         "2002-09-28 16:00:00",
         "-11",
         "Bungalow",
         null,
         "50.75",
         "2.88",
         "1.12",
         "Upper Middle",
         "0",
         "Swimming Pool",
         "0.0",
         "212.74",
         "2002-09-28",
         "16"
        ],
        [
         "970",
         "2002-11-20 08:00:00",
         "-99",
         "Studio",
         "25.15",
         "48.73",
         "1.49",
         "1.06",
         "Low",
         "0",
         "Garden",
         "0.0",
         "77.09",
         "2002-11-20",
         "8"
        ],
        [
         "1086",
         "2002-12-29 00:00:00",
         "-33",
         "Bungalow",
         "25.0",
         "33.48",
         "2.36",
         "1.05",
         "Rich",
         "0",
         "Swimming Pool",
         "0.0",
         "252.54",
         "2002-12-29",
         "0"
        ],
        [
         "1176",
         "2003-01-28 00:00:00",
         "-33",
         "Cottage",
         "21.26",
         "49.87",
         "1.4",
         "0.6810619399059568",
         "Middle",
         "0",
         null,
         "0.0",
         "110.85",
         "2003-01-28",
         "0"
        ],
        [
         "1228",
         "2003-02-14 08:00:00",
         "-44",
         "Studio",
         "19.59",
         "59.23",
         "1.28",
         "1.16",
         "Low",
         "0",
         "Garden",
         "1.0",
         "87.19",
         "2003-02-14",
         "8"
        ],
        [
         "1261",
         "2003-02-25 08:00:00",
         "-66",
         "Cottage",
         "24.94",
         "62.15",
         "1.09",
         "1.47",
         null,
         "1",
         null,
         "0.0",
         "139.07",
         "2003-02-25",
         "8"
        ],
        [
         "1323",
         "2003-03-18 00:00:00",
         "-22",
         "Bungalow",
         "21.34",
         "67.61",
         "2.35",
         "1.13",
         null,
         "0",
         null,
         "0.0",
         "115.49",
         "2003-03-18",
         "0"
        ],
        [
         "1340",
         "2003-03-23 16:00:00",
         "-22",
         "Cottage",
         "29.99",
         "44.59",
         "1.34",
         "0.92",
         "Middle",
         "0",
         "Fountain",
         "0.0",
         "100.95",
         "2003-03-23",
         "16"
        ],
        [
         "1398",
         "2003-04-12 00:00:00",
         "-22",
         "1BHK",
         "16.76",
         "46.22",
         "1.19",
         "0.9",
         "Middle",
         "1",
         "Garden",
         "1.0",
         "130.85",
         "2003-04-12",
         "0"
        ],
        [
         "1402",
         "2003-04-13 08:00:00",
         "-55",
         "Bungalow",
         "12.41",
         "60.47",
         "2.04",
         "1.12",
         "Upper Middle",
         "0",
         null,
         "0.0",
         "113.28",
         "2003-04-13",
         "8"
        ],
        [
         "1459",
         "2003-05-02 08:00:00",
         "-88",
         "Bungalow",
         "12.49",
         "59.66",
         "1.93",
         "1.01",
         "ZTqLe",
         "-1",
         null,
         "0.0",
         "141.26",
         "2003-05-02",
         "8"
        ],
        [
         "1539",
         "2003-05-29 00:00:00",
         "-22",
         "2BHK",
         null,
         "29.98",
         "2.4",
         "1.17",
         "mMRFh",
         "0",
         "Swimming Pool",
         "0.0",
         "239.61",
         "2003-05-29",
         "0"
        ],
        [
         "1542",
         "2003-05-30 00:00:00",
         "-99",
         "1BHK",
         "16.03",
         "51.9",
         "1.68",
         "1.44",
         "Middle",
         "0",
         null,
         null,
         "110.39",
         "2003-05-30",
         "0"
        ],
        [
         "1546",
         "2003-05-31 08:00:00",
         "-44",
         "Bungalow",
         "31.84",
         "39.7",
         "2.76",
         "0.95",
         "Upper Middle",
         "0",
         "Garden",
         "0.0",
         "155.22",
         "2003-05-31",
         "8"
        ],
        [
         "1551",
         "2003-06-02 00:00:00",
         "-99",
         "Cottage",
         "20.0",
         "65.1",
         "1.3",
         "1.3",
         "Middle",
         "0",
         null,
         "0.0",
         "116.79",
         "2003-06-02",
         "0"
        ],
        [
         "1650",
         "2003-07-05 00:00:00",
         "-55",
         "3BHK",
         "28.91",
         "60.55",
         "2.23",
         "1.4",
         "Upper Middle",
         "0",
         null,
         "0.0",
         "208.4",
         "2003-07-05",
         "0"
        ],
        [
         "1695",
         "2003-07-20 00:00:00",
         "-11",
         "Studio",
         "15.63",
         "65.74",
         "1.53",
         "0.96",
         "Low",
         "0",
         null,
         "0.0",
         "53.98",
         "2003-07-20",
         "0"
        ],
        [
         "1773",
         "2003-08-15 00:00:00",
         "-22",
         "2BHK",
         "34.46",
         "46.88",
         "2.14",
         "1.37",
         "Upper Middle",
         "0",
         "Garden",
         "0.0",
         "190.63",
         "2003-08-15",
         "0"
        ],
        [
         "1801",
         "2003-08-24 08:00:00",
         "-88",
         "2BHK",
         "33.74",
         "62.01",
         "1.12",
         "1.19",
         "Middle",
         "1",
         null,
         "0.0",
         "162.97",
         "2003-08-24",
         "8"
        ],
        [
         "1841",
         "2003-09-06 16:00:00",
         "-88",
         "2BHK",
         "21.22",
         "58.92",
         "2.5",
         "1.31",
         "Upper Middle",
         "1",
         null,
         "0.0",
         "169.72",
         "2003-09-06",
         "16"
        ],
        [
         "1879",
         "2003-09-19 08:00:00",
         "-22",
         "3BHK",
         "23.81",
         "36.53",
         "1.65",
         "0.98",
         "Upper Middle",
         "0",
         "Garden",
         "0.0",
         "177.32",
         "2003-09-19",
         "8"
        ],
        [
         "1882",
         "2003-09-20 08:00:00",
         "-44",
         "1BHK",
         "24.28",
         "49.91",
         "1.15",
         "1.48",
         "Middle",
         "0",
         null,
         "0.0",
         "126.76",
         "2003-09-20",
         "8"
        ],
        [
         "1904",
         "2003-09-27 16:00:00",
         "-99",
         "2BHK",
         "11.43",
         "48.46",
         "1.11",
         "0.87",
         "Middle",
         "1",
         null,
         "1.0",
         "124.85",
         "2003-09-27",
         "16"
        ],
        [
         "1975",
         "2003-10-21 08:00:00",
         "-44",
         "3BHK",
         "18.37",
         "nRP$L",
         "-22.0",
         "0.95",
         "Upper Middle",
         "0",
         "Fountain",
         "0.0",
         "207.78",
         "2003-10-21",
         "8"
        ],
        [
         "1977",
         "2003-10-22 00:00:00",
         "-99",
         null,
         "19.47",
         "61.42",
         "1.99",
         "1.19",
         "Upper Middle",
         "0",
         "Swimming Pool",
         "0.0",
         "247.29",
         "2003-10-22",
         "0"
        ],
        [
         "1980",
         "2003-10-23 00:00:00",
         "-88",
         "1BHK",
         "17.57",
         "54.19",
         "1.65",
         "1.24",
         "Middle",
         "0",
         "Jacuzzi",
         "0.0",
         "144.82",
         "2003-10-23",
         "0"
        ],
        [
         "2018",
         "2003-11-04 16:00:00",
         "-55",
         "Bungalow",
         "26.49",
         "66.07",
         "3.0",
         "1.36",
         "Rich",
         "1",
         null,
         "0.0",
         "273.27",
         "2003-11-04",
         "16"
        ],
        [
         "2100",
         "2003-12-02 00:00:00",
         "-77",
         "Cottage",
         "18.95",
         "41.39",
         "1.3",
         "1.29",
         null,
         "0",
         null,
         "0.0",
         "135.46",
         "2003-12-02",
         "0"
        ],
        [
         "2161",
         "2003-12-22 08:00:00",
         "-33",
         "Bungalow",
         "21.46",
         "45.8",
         "2.01",
         "1.04",
         "Rich",
         "0",
         "Swimming Pool",
         "1.0",
         "303.36",
         "2003-12-22",
         "8"
        ],
        [
         "2187",
         "2003-12-31 00:00:00",
         "-44",
         "2BHK",
         "19.03",
         "53.36",
         "1.15",
         "0.9",
         "Middle",
         "1",
         "Garden",
         "0.0",
         "121.39",
         "2003-12-31",
         "0"
        ],
        [
         "2206",
         "2004-01-06 08:00:00",
         "-33",
         "3BHK",
         "29.25",
         "49.91",
         "1.65",
         "1.4",
         "Upper Middle",
         "0",
         "Fountain",
         "0.0",
         "276.65",
         "2004-01-06",
         "8"
        ],
        [
         "2312",
         "2004-02-10 16:00:00",
         "-99",
         "2BHK",
         "11.51",
         "62.02",
         "1.5",
         "1.25",
         "Middle",
         "0",
         "Fountain",
         "0.0",
         "190.25",
         "2004-02-10",
         "16"
        ],
        [
         "2315",
         "2004-02-11 16:00:00",
         "-11",
         "1BHK",
         "34.49",
         "47.51",
         "1.17",
         "1.07",
         "Low",
         "0",
         null,
         "0.0",
         "110.1",
         "2004-02-11",
         "16"
        ],
        [
         "2360",
         "2004-02-26 16:00:00",
         "-99",
         "1BHK",
         "22.8",
         "55.74",
         "1.03",
         "1.13",
         "Middle",
         "1",
         null,
         "0.0",
         "135.41",
         "2004-02-26",
         "16"
        ],
        [
         "2428",
         "2004-03-20 08:00:00",
         "-66",
         "3BHK",
         "12.01",
         "hZ{J_",
         "1.94",
         "0.86",
         "Upper Middle",
         "0",
         null,
         "0.0",
         "99.3",
         "2004-03-20",
         "8"
        ],
        [
         "2436",
         "2004-03-23 00:00:00",
         "-99",
         "1BHK",
         "33.37",
         "36.44",
         "1.6",
         "1.32",
         null,
         "0",
         null,
         "1.0",
         "133.6",
         "2004-03-23",
         "0"
        ],
        [
         "2457",
         "2004-03-30 00:00:00",
         "-11",
         "2BHK",
         "11.11",
         "47.15",
         "1.72",
         "1.13",
         "Middle",
         "0",
         "Fountain",
         "0.0",
         "137.33",
         "2004-03-30",
         "0"
        ]
       ],
       "shape": {
        "columns": 14,
        "rows": 280
       }
      },
      "text/html": [
       "<div>\n",
       "<style scoped>\n",
       "    .dataframe tbody tr th:only-of-type {\n",
       "        vertical-align: middle;\n",
       "    }\n",
       "\n",
       "    .dataframe tbody tr th {\n",
       "        vertical-align: top;\n",
       "    }\n",
       "\n",
       "    .dataframe thead th {\n",
       "        text-align: right;\n",
       "    }\n",
       "</style>\n",
       "<table border=\"1\" class=\"dataframe\">\n",
       "  <thead>\n",
       "    <tr style=\"text-align: right;\">\n",
       "      <th></th>\n",
       "      <th>Timestamp</th>\n",
       "      <th>Residents</th>\n",
       "      <th>Apartment_Type</th>\n",
       "      <th>Temperature</th>\n",
       "      <th>Humidity</th>\n",
       "      <th>Water_Price</th>\n",
       "      <th>Period_Consumption_Index</th>\n",
       "      <th>Income_Level</th>\n",
       "      <th>Guests</th>\n",
       "      <th>Amenities</th>\n",
       "      <th>Appliance_Usage</th>\n",
       "      <th>Water_Consumption</th>\n",
       "      <th>Date</th>\n",
       "      <th>Hour</th>\n",
       "    </tr>\n",
       "  </thead>\n",
       "  <tbody>\n",
       "    <tr>\n",
       "      <th>13</th>\n",
       "      <td>2002-01-05 08:00:00</td>\n",
       "      <td>-11</td>\n",
       "      <td>Studio</td>\n",
       "      <td>14.50</td>\n",
       "      <td>70.0</td>\n",
       "      <td>1.56</td>\n",
       "      <td>1.14</td>\n",
       "      <td>Low</td>\n",
       "      <td>1</td>\n",
       "      <td>Swimming Pool</td>\n",
       "      <td>0.0</td>\n",
       "      <td>75.05</td>\n",
       "      <td>2002-01-05</td>\n",
       "      <td>8</td>\n",
       "    </tr>\n",
       "    <tr>\n",
       "      <th>49</th>\n",
       "      <td>2002-01-17 08:00:00</td>\n",
       "      <td>-66</td>\n",
       "      <td>Bungalow</td>\n",
       "      <td>10.18</td>\n",
       "      <td>48.38</td>\n",
       "      <td>2.93</td>\n",
       "      <td>1.36</td>\n",
       "      <td>Upper Middle</td>\n",
       "      <td>0</td>\n",
       "      <td>Jacuzzi</td>\n",
       "      <td>0.0</td>\n",
       "      <td>175.97</td>\n",
       "      <td>2002-01-17</td>\n",
       "      <td>8</td>\n",
       "    </tr>\n",
       "    <tr>\n",
       "      <th>53</th>\n",
       "      <td>2002-01-18 16:00:00</td>\n",
       "      <td>-99</td>\n",
       "      <td>Bungalow</td>\n",
       "      <td>30.79</td>\n",
       "      <td>42.0</td>\n",
       "      <td>1.72</td>\n",
       "      <td>1.33</td>\n",
       "      <td>Upper Middle</td>\n",
       "      <td>0</td>\n",
       "      <td>Swimming Pool</td>\n",
       "      <td>0.0</td>\n",
       "      <td>319.47</td>\n",
       "      <td>2002-01-18</td>\n",
       "      <td>16</td>\n",
       "    </tr>\n",
       "    <tr>\n",
       "      <th>197</th>\n",
       "      <td>2002-03-07 16:00:00</td>\n",
       "      <td>-99</td>\n",
       "      <td>1BHK</td>\n",
       "      <td>19.12</td>\n",
       "      <td>62.0</td>\n",
       "      <td>1.60</td>\n",
       "      <td>1.00</td>\n",
       "      <td>Low</td>\n",
       "      <td>0</td>\n",
       "      <td>Swimming Pool</td>\n",
       "      <td>0.0</td>\n",
       "      <td>86.04</td>\n",
       "      <td>2002-03-07</td>\n",
       "      <td>16</td>\n",
       "    </tr>\n",
       "    <tr>\n",
       "      <th>211</th>\n",
       "      <td>2002-03-12 08:00:00</td>\n",
       "      <td>-88</td>\n",
       "      <td>1BHK</td>\n",
       "      <td>26.91</td>\n",
       "      <td>68.6</td>\n",
       "      <td>1.24</td>\n",
       "      <td>1.41</td>\n",
       "      <td>Middle</td>\n",
       "      <td>1</td>\n",
       "      <td>NaN</td>\n",
       "      <td>1.0</td>\n",
       "      <td>147.66</td>\n",
       "      <td>2002-03-12</td>\n",
       "      <td>8</td>\n",
       "    </tr>\n",
       "    <tr>\n",
       "      <th>...</th>\n",
       "      <td>...</td>\n",
       "      <td>...</td>\n",
       "      <td>...</td>\n",
       "      <td>...</td>\n",
       "      <td>...</td>\n",
       "      <td>...</td>\n",
       "      <td>...</td>\n",
       "      <td>...</td>\n",
       "      <td>...</td>\n",
       "      <td>...</td>\n",
       "      <td>...</td>\n",
       "      <td>...</td>\n",
       "      <td>...</td>\n",
       "      <td>...</td>\n",
       "    </tr>\n",
       "    <tr>\n",
       "      <th>13852</th>\n",
       "      <td>2014-08-23 08:00:00</td>\n",
       "      <td>-66</td>\n",
       "      <td>1BHK</td>\n",
       "      <td>17.53</td>\n",
       "      <td>73.23</td>\n",
       "      <td>1.27</td>\n",
       "      <td>0.91</td>\n",
       "      <td>Low</td>\n",
       "      <td>1</td>\n",
       "      <td>Garden</td>\n",
       "      <td>0.0</td>\n",
       "      <td>85.12</td>\n",
       "      <td>2014-08-23</td>\n",
       "      <td>8</td>\n",
       "    </tr>\n",
       "    <tr>\n",
       "      <th>13863</th>\n",
       "      <td>2014-08-27 00:00:00</td>\n",
       "      <td>-11</td>\n",
       "      <td>2BHK</td>\n",
       "      <td>NaN</td>\n",
       "      <td>63.43</td>\n",
       "      <td>1.28</td>\n",
       "      <td>0.86</td>\n",
       "      <td>Middle</td>\n",
       "      <td>0</td>\n",
       "      <td>NaN</td>\n",
       "      <td>1.0</td>\n",
       "      <td>134.61</td>\n",
       "      <td>2014-08-27</td>\n",
       "      <td>0</td>\n",
       "    </tr>\n",
       "    <tr>\n",
       "      <th>13878</th>\n",
       "      <td>2014-09-01 00:00:00</td>\n",
       "      <td>-66</td>\n",
       "      <td>1BHK</td>\n",
       "      <td>12.14</td>\n",
       "      <td>57.87</td>\n",
       "      <td>1.54</td>\n",
       "      <td>1.40</td>\n",
       "      <td>Low</td>\n",
       "      <td>0</td>\n",
       "      <td>Garden</td>\n",
       "      <td>1.0</td>\n",
       "      <td>108.97</td>\n",
       "      <td>2014-09-01</td>\n",
       "      <td>0</td>\n",
       "    </tr>\n",
       "    <tr>\n",
       "      <th>13898</th>\n",
       "      <td>2014-09-07 16:00:00</td>\n",
       "      <td>-77</td>\n",
       "      <td>2BHK</td>\n",
       "      <td>24.01</td>\n",
       "      <td>55.88</td>\n",
       "      <td>2.81</td>\n",
       "      <td>1.01</td>\n",
       "      <td>Upper Middle</td>\n",
       "      <td>0</td>\n",
       "      <td>Jacuzzi</td>\n",
       "      <td>0.0</td>\n",
       "      <td>191.52</td>\n",
       "      <td>2014-09-07</td>\n",
       "      <td>16</td>\n",
       "    </tr>\n",
       "    <tr>\n",
       "      <th>13932</th>\n",
       "      <td>2014-09-19 00:00:00</td>\n",
       "      <td>-55</td>\n",
       "      <td>1BHK</td>\n",
       "      <td>33.34</td>\n",
       "      <td>35.39</td>\n",
       "      <td>-33.00</td>\n",
       "      <td>1.17</td>\n",
       "      <td>Middle</td>\n",
       "      <td>0</td>\n",
       "      <td>Garden</td>\n",
       "      <td>0.0</td>\n",
       "      <td>151.84</td>\n",
       "      <td>2014-09-19</td>\n",
       "      <td>0</td>\n",
       "    </tr>\n",
       "  </tbody>\n",
       "</table>\n",
       "<p>280 rows × 14 columns</p>\n",
       "</div>"
      ],
      "text/plain": [
       "                Timestamp  Residents Apartment_Type  Temperature Humidity  \\\n",
       "13    2002-01-05 08:00:00        -11         Studio        14.50     70.0   \n",
       "49    2002-01-17 08:00:00        -66       Bungalow        10.18    48.38   \n",
       "53    2002-01-18 16:00:00        -99       Bungalow        30.79     42.0   \n",
       "197   2002-03-07 16:00:00        -99           1BHK        19.12     62.0   \n",
       "211   2002-03-12 08:00:00        -88           1BHK        26.91     68.6   \n",
       "...                   ...        ...            ...          ...      ...   \n",
       "13852 2014-08-23 08:00:00        -66           1BHK        17.53    73.23   \n",
       "13863 2014-08-27 00:00:00        -11           2BHK          NaN    63.43   \n",
       "13878 2014-09-01 00:00:00        -66           1BHK        12.14    57.87   \n",
       "13898 2014-09-07 16:00:00        -77           2BHK        24.01    55.88   \n",
       "13932 2014-09-19 00:00:00        -55           1BHK        33.34    35.39   \n",
       "\n",
       "       Water_Price  Period_Consumption_Index  Income_Level  Guests  \\\n",
       "13            1.56                      1.14           Low       1   \n",
       "49            2.93                      1.36  Upper Middle       0   \n",
       "53            1.72                      1.33  Upper Middle       0   \n",
       "197           1.60                      1.00           Low       0   \n",
       "211           1.24                      1.41        Middle       1   \n",
       "...            ...                       ...           ...     ...   \n",
       "13852         1.27                      0.91           Low       1   \n",
       "13863         1.28                      0.86        Middle       0   \n",
       "13878         1.54                      1.40           Low       0   \n",
       "13898         2.81                      1.01  Upper Middle       0   \n",
       "13932       -33.00                      1.17        Middle       0   \n",
       "\n",
       "           Amenities  Appliance_Usage  Water_Consumption        Date  Hour  \n",
       "13     Swimming Pool              0.0              75.05  2002-01-05     8  \n",
       "49           Jacuzzi              0.0             175.97  2002-01-17     8  \n",
       "53     Swimming Pool              0.0             319.47  2002-01-18    16  \n",
       "197    Swimming Pool              0.0              86.04  2002-03-07    16  \n",
       "211              NaN              1.0             147.66  2002-03-12     8  \n",
       "...              ...              ...                ...         ...   ...  \n",
       "13852         Garden              0.0              85.12  2014-08-23     8  \n",
       "13863            NaN              1.0             134.61  2014-08-27     0  \n",
       "13878         Garden              1.0             108.97  2014-09-01     0  \n",
       "13898        Jacuzzi              0.0             191.52  2014-09-07    16  \n",
       "13932         Garden              0.0             151.84  2014-09-19     0  \n",
       "\n",
       "[280 rows x 14 columns]"
      ]
     },
     "execution_count": 51,
     "metadata": {},
     "output_type": "execute_result"
    }
   ],
   "source": [
    "# Observing water consumption where residents are less than or equal to 0.\n",
    "df[df[\"Residents\"] <= 0]"
   ]
  },
  {
   "cell_type": "markdown",
   "metadata": {},
   "source": [
    "### Apartment_Type\n"
   ]
  },
  {
   "cell_type": "code",
   "execution_count": 52,
   "metadata": {},
   "outputs": [
    {
     "name": "stdout",
     "output_type": "stream",
     "text": [
      "<class 'pandas.core.series.Series'>\n",
      "RangeIndex: 14000 entries, 0 to 13999\n",
      "Series name: Apartment_Type\n",
      "Non-Null Count  Dtype \n",
      "--------------  ----- \n",
      "13574 non-null  object\n",
      "dtypes: object(1)\n",
      "memory usage: 109.5+ KB\n"
     ]
    }
   ],
   "source": [
    "df[\"Apartment_Type\"].info()"
   ]
  },
  {
   "cell_type": "code",
   "execution_count": 53,
   "metadata": {},
   "outputs": [
    {
     "data": {
      "text/plain": [
       "array(['Studio', nan, 'Cottage', '1BHK', '2BHK', 'Bungalow', '3BHK',\n",
       "       'Detached'], dtype=object)"
      ]
     },
     "execution_count": 53,
     "metadata": {},
     "output_type": "execute_result"
    }
   ],
   "source": [
    "df[\"Apartment_Type\"].unique()"
   ]
  },
  {
   "cell_type": "code",
   "execution_count": 54,
   "metadata": {},
   "outputs": [
    {
     "data": {
      "text/plain": [
       "Apartment_Type\n",
       "2BHK        3157\n",
       "1BHK        3019\n",
       "Bungalow    1925\n",
       "3BHK        1909\n",
       "Cottage     1824\n",
       "Studio      1186\n",
       "Detached     554\n",
       "Name: count, dtype: int64"
      ]
     },
     "execution_count": 54,
     "metadata": {},
     "output_type": "execute_result"
    }
   ],
   "source": [
    "df[\"Apartment_Type\"].value_counts()"
   ]
  },
  {
   "cell_type": "code",
   "execution_count": 55,
   "metadata": {},
   "outputs": [
    {
     "data": {
      "text/plain": [
       "<Axes: xlabel='Apartment_Type', ylabel='count'>"
      ]
     },
     "execution_count": 55,
     "metadata": {},
     "output_type": "execute_result"
    },
    {
     "data": {
      "image/png": "[encoded data removed]",
      "text/plain": [
       "<Figure size 640x480 with 1 Axes>"
      ]
     },
     "metadata": {},
     "output_type": "display_data"
    }
   ],
   "source": [
    "sns.countplot(x=\"Apartment_Type\", data=df)"
   ]
  },
  {
   "cell_type": "code",
   "execution_count": 56,
   "metadata": {},
   "outputs": [
    {
     "data": {
      "text/plain": [
       "3.04"
      ]
     },
     "execution_count": 56,
     "metadata": {},
     "output_type": "execute_result"
    }
   ],
   "source": [
    "round((len(df[df[\"Apartment_Type\"].isnull()]) / len(df)) * 100, 2)"
   ]
  },
  {
   "cell_type": "markdown",
   "metadata": {},
   "source": [
    "3.04 % of this data has null Apartment_Types, how to handle this?\n"
   ]
  },
  {
   "cell_type": "markdown",
   "metadata": {},
   "source": [
    "### Temperature\n"
   ]
  },
  {
   "cell_type": "code",
   "execution_count": 57,
   "metadata": {},
   "outputs": [
    {
     "name": "stdout",
     "output_type": "stream",
     "text": [
      "<class 'pandas.core.series.Series'>\n",
      "RangeIndex: 14000 entries, 0 to 13999\n",
      "Series name: Temperature\n",
      "Non-Null Count  Dtype  \n",
      "--------------  -----  \n",
      "13559 non-null  float64\n",
      "dtypes: float64(1)\n",
      "memory usage: 109.5 KB\n"
     ]
    }
   ],
   "source": [
    "df[\"Temperature\"].info()"
   ]
  },
  {
   "cell_type": "code",
   "execution_count": 58,
   "metadata": {},
   "outputs": [
    {
     "data": {
      "text/plain": [
       "count    13559.000000\n",
       "mean        22.566559\n",
       "std          7.216447\n",
       "min         10.000000\n",
       "25%         16.340000\n",
       "50%         22.580000\n",
       "75%         28.850000\n",
       "max         35.000000\n",
       "Name: Temperature, dtype: float64"
      ]
     },
     "execution_count": 58,
     "metadata": {},
     "output_type": "execute_result"
    }
   ],
   "source": [
    "df[\"Temperature\"].describe()"
   ]
  },
  {
   "cell_type": "code",
   "execution_count": 59,
   "metadata": {},
   "outputs": [
    {
     "data": {
      "text/plain": [
       "<Axes: xlabel='Temperature', ylabel='Count'>"
      ]
     },
     "execution_count": 59,
     "metadata": {},
     "output_type": "execute_result"
    },
    {
     "data": {
      "image/png": "[encoded data removed]",
      "text/plain": [
       "<Figure size 640x480 with 1 Axes>"
      ]
     },
     "metadata": {},
     "output_type": "display_data"
    }
   ],
   "source": [
    "sns.histplot(df[\"Temperature\"], kde=True)"
   ]
  },
  {
   "cell_type": "code",
   "execution_count": 75,
   "metadata": {},
   "outputs": [
    {
     "data": {
      "application/vnd.microsoft.datawrangler.viewer.v0+json": {
       "columns": [
        {
         "name": "index",
         "rawType": "int64",
         "type": "integer"
        },
        {
         "name": "Timestamp",
         "rawType": "datetime64[ns]",
         "type": "datetime"
        },
        {
         "name": "Residents",
         "rawType": "int64",
         "type": "integer"
        },
        {
         "name": "Apartment_Type",
         "rawType": "object",
         "type": "unknown"
        },
        {
         "name": "Temperature",
         "rawType": "float64",
         "type": "float"
        },
        {
         "name": "Humidity",
         "rawType": "float64",
         "type": "float"
        },
        {
         "name": "Water_Price",
         "rawType": "float64",
         "type": "float"
        },
        {
         "name": "Period_Consumption_Index",
         "rawType": "float64",
         "type": "float"
        },
        {
         "name": "Income_Level",
         "rawType": "object",
         "type": "unknown"
        },
        {
         "name": "Guests",
         "rawType": "int64",
         "type": "integer"
        },
        {
         "name": "Amenities",
         "rawType": "object",
         "type": "unknown"
        },
        {
         "name": "Appliance_Usage",
         "rawType": "float64",
         "type": "float"
        },
        {
         "name": "Water_Consumption",
         "rawType": "float64",
         "type": "float"
        },
        {
         "name": "Date",
         "rawType": "object",
         "type": "unknown"
        },
        {
         "name": "Hour",
         "rawType": "int32",
         "type": "integer"
        }
       ],
       "conversionMethod": "pd.DataFrame",
       "ref": "466a3891-3055-4a5c-ace8-49dd1d51f66d",
       "rows": [
        [
         "10",
         "2002-01-04 08:00:00",
         "3",
         "2BHK",
         null,
         "63.72",
         "1.14",
         "0.2294217559681648",
         "Middle",
         "0",
         null,
         "1.0",
         "91.71",
         "2002-01-04",
         "8"
        ],
        [
         "36",
         "2002-01-13 00:00:00",
         "5",
         "Bungalow",
         null,
         "60.18",
         "2.39",
         "1.06",
         "Upper Middle",
         "1",
         "Jacuzzi",
         "1.0",
         "284.16",
         "2002-01-13",
         "0"
        ],
        [
         "54",
         "2002-01-19 00:00:00",
         "4",
         "Bungalow",
         null,
         "54.11",
         "1.55",
         "0.88",
         "Upper Middle",
         "0",
         "Swimming Pool",
         "0.0",
         "169.06",
         "2002-01-19",
         "0"
        ],
        [
         "100",
         "2002-02-03 08:00:00",
         "3",
         "1BHK",
         null,
         "48.16",
         "1.75",
         "1.38",
         "Middle",
         "0",
         null,
         "0.0",
         "145.27",
         "2002-02-03",
         "8"
        ],
        [
         "112",
         "2002-02-07 08:00:00",
         "4",
         "Detached",
         null,
         "49.47",
         "1.82",
         "1.28",
         "Rich",
         "1",
         "Jacuzzi",
         "1.0",
         "417.21",
         "2002-02-07",
         "8"
        ],
        [
         "119",
         "2002-02-09 16:00:00",
         "4",
         "3BHK",
         null,
         "54.87",
         "1.88",
         "1.22",
         "Upper Middle",
         "0",
         "Swimming Pool",
         "0.0",
         "216.21",
         "2002-02-09",
         "16"
        ],
        [
         "127",
         "2002-02-12 08:00:00",
         "5",
         "Bungalow",
         null,
         "62.65",
         "1.87",
         "0.9",
         "Upper Middle",
         "1",
         "Swimming Pool",
         "0.0",
         "199.61",
         "2002-02-12",
         "8"
        ],
        [
         "209",
         "2002-03-11 16:00:00",
         "2",
         "Cottage",
         null,
         "45.67",
         "1.72",
         "1.32",
         "Middle",
         "0",
         "Fountain",
         "0.0",
         "143.97",
         "2002-03-11",
         "16"
        ],
        [
         "219",
         "2002-03-15 00:00:00",
         "4",
         "3BHK",
         null,
         "64.57",
         "2.95",
         "0.95",
         "Upper Middle",
         "0",
         "Swimming Pool",
         "0.0",
         "153.14",
         "2002-03-15",
         "0"
        ],
        [
         "247",
         "2002-03-24 08:00:00",
         "5",
         "2BHK",
         null,
         "39.72",
         "1.56",
         "0.89",
         "Upper Middle",
         "0",
         "Fountain",
         "0.0",
         "170.71",
         "2002-03-24",
         "8"
        ],
        [
         "275",
         "2002-04-02 16:00:00",
         "4",
         null,
         null,
         "67.55",
         "1.72",
         "1.43",
         "Upper Middle",
         "0",
         "Jacuzzi",
         "0.0",
         "209.39",
         "2002-04-02",
         "16"
        ],
        [
         "281",
         "2002-04-04 16:00:00",
         "3",
         "1BHK",
         null,
         "55.84",
         "-11.0",
         "0.95",
         "Middle",
         "0",
         null,
         "0.0",
         "93.47",
         "2002-04-04",
         "16"
        ],
        [
         "431",
         "2002-05-24 16:00:00",
         "2",
         "Cottage",
         null,
         "41.95",
         "1.75",
         "0.83",
         "Middle",
         "0",
         null,
         "0.0",
         "72.0",
         "2002-05-24",
         "16"
        ],
        [
         "483",
         "2002-06-11 00:00:00",
         "5",
         "2BHK",
         null,
         "49.42",
         "1.02",
         "1.3",
         "Middle",
         "0",
         null,
         "0.0",
         "187.05",
         "2002-06-11",
         "0"
        ],
        [
         "490",
         "2002-06-13 08:00:00",
         "3",
         "3BHK",
         null,
         "68.56",
         "2.53",
         "1.29",
         null,
         "0",
         "Fountain",
         "0.0",
         "161.9",
         "2002-06-13",
         "8"
        ],
        [
         "524",
         "2002-06-24 16:00:00",
         "2",
         "1BHK",
         null,
         "54.17",
         "-33.0",
         "1.19",
         "Middle",
         "0",
         null,
         "0.0",
         "106.24",
         "2002-06-24",
         "16"
        ],
        [
         "534",
         "2002-06-28 00:00:00",
         "2",
         null,
         null,
         "57.5",
         "1.4",
         "0.81",
         "Middle",
         "0",
         "Garden",
         "0.0",
         "72.63",
         "2002-06-28",
         "0"
        ],
        [
         "573",
         "2002-07-11 00:00:00",
         "3",
         "Bungalow",
         null,
         "49.83",
         "2.16",
         "1.05",
         "Upper Middle",
         "0",
         "Garden",
         "0.0",
         "122.55",
         "2002-07-11",
         "0"
        ],
        [
         "576",
         "2002-07-12 00:00:00",
         "2",
         "Studio",
         null,
         "68.26",
         "1.51",
         "0.84",
         "Low",
         "0",
         null,
         "0.0",
         "48.35",
         "2002-07-12",
         "0"
        ],
        [
         "591",
         "2002-07-17 00:00:00",
         "3",
         "1BHK",
         null,
         "40.29",
         "1.33",
         "0.81",
         "Middle",
         "0",
         "Jacuzzi",
         "0.0",
         "112.51",
         "2002-07-17",
         "0"
        ],
        [
         "604",
         "2002-07-21 08:00:00",
         "3",
         "2BHK",
         null,
         "53.14175856491692",
         "1.72",
         "1.12",
         "Middle",
         "0",
         null,
         "0.0",
         "118.65",
         "2002-07-21",
         "8"
        ],
        [
         "611",
         "2002-07-23 16:00:00",
         "3",
         "Cottage",
         null,
         "42.94",
         "1.19",
         "0.93",
         "Middle",
         "0",
         null,
         "0.0",
         "96.92",
         "2002-07-23",
         "16"
        ],
        [
         "612",
         "2002-07-24 00:00:00",
         "4",
         "Bungalow",
         null,
         "71.31",
         "1.74",
         "1.4",
         "Upper Middle",
         "0",
         null,
         "0.0",
         "157.01",
         "2002-07-24",
         "0"
        ],
        [
         "660",
         "2002-08-09 00:00:00",
         "5",
         "2BHK",
         null,
         "65.95",
         "2.4",
         "1.4",
         "Upper Middle",
         "1",
         "Swimming Pool",
         "0.0",
         "300.57",
         "2002-08-09",
         "0"
        ],
        [
         "670",
         "2002-08-12 08:00:00",
         "5",
         "Bungalow",
         null,
         "48.95",
         "2.83",
         "0.98",
         "Rich",
         "0",
         null,
         "1.0",
         "228.67",
         "2002-08-12",
         "8"
        ],
        [
         "706",
         "2002-08-24 08:00:00",
         "2",
         "1BHK",
         null,
         "50.19",
         "1.27",
         "1.42",
         "Middle",
         "0",
         null,
         "0.0",
         "109.48",
         "2002-08-24",
         "8"
        ],
        [
         "721",
         "2002-08-29 08:00:00",
         "5",
         "2BHK",
         null,
         "53.14175856491692",
         "1.63",
         "0.94",
         "Middle",
         "0",
         null,
         "0.0",
         "147.05",
         "2002-08-29",
         "8"
        ],
        [
         "761",
         "2002-09-11 16:00:00",
         "2",
         "1BHK",
         null,
         "56.72",
         "1.71",
         "1.24",
         "Middle",
         "1",
         null,
         "0.0",
         "115.88",
         "2002-09-11",
         "16"
        ],
        [
         "812",
         "2002-09-28 16:00:00",
         "-11",
         "Bungalow",
         null,
         "50.75",
         "2.88",
         "1.12",
         "Upper Middle",
         "0",
         "Swimming Pool",
         "0.0",
         "212.74",
         "2002-09-28",
         "16"
        ],
        [
         "823",
         "2002-10-02 08:00:00",
         "4",
         "2BHK",
         null,
         "50.36",
         "1.4",
         "1.26",
         "Middle",
         "2",
         "Garden",
         "0.0",
         "195.18",
         "2002-10-02",
         "8"
        ],
        [
         "878",
         "2002-10-20 16:00:00",
         "3",
         "3BHK",
         null,
         "70.69",
         "2.82",
         "0.8206053068901111",
         "Rich",
         "1",
         "Jacuzzi",
         "0.0",
         "272.29",
         "2002-10-20",
         "16"
        ],
        [
         "880",
         "2002-10-21 08:00:00",
         "2",
         "1BHK",
         null,
         "58.77",
         "1.48",
         "0.82",
         "Low",
         "1",
         null,
         "0.0",
         "73.69",
         "2002-10-21",
         "8"
        ],
        [
         "951",
         "2002-11-14 00:00:00",
         "3",
         "Cottage",
         null,
         "37.29",
         "1.14",
         "1.45",
         "Middle",
         "0",
         null,
         "0.0",
         "178.33",
         "2002-11-14",
         "0"
        ],
        [
         "1074",
         "2002-12-25 00:00:00",
         "2",
         "Cottage",
         null,
         "64.24",
         "1.66",
         "1.04",
         "Middle",
         "0",
         null,
         null,
         "71.56",
         "2002-12-25",
         "0"
        ],
        [
         "1082",
         "2002-12-27 16:00:00",
         "3",
         "Cottage",
         null,
         "49.29",
         "1.4",
         "1.45",
         "Middle",
         "0",
         null,
         "1.0",
         "175.61",
         "2002-12-27",
         "16"
        ],
        [
         "1181",
         "2003-01-29 16:00:00",
         "5",
         "Bungalow",
         null,
         "57.57",
         "2.7",
         "1.42",
         "Upper Middle",
         "0",
         "Jacuzzi",
         "1.0",
         "333.26",
         "2003-01-29",
         "16"
        ],
        [
         "1214",
         "2003-02-09 16:00:00",
         "5",
         "Bungalow",
         null,
         "54.0",
         "2.93",
         "1.17",
         "Rich",
         "0",
         null,
         null,
         "213.79",
         "2003-02-09",
         "16"
        ],
        [
         "1216",
         "2003-02-10 08:00:00",
         "3",
         "2BHK",
         null,
         "73.89",
         "2.25",
         "0.95",
         "Upper Middle",
         "1",
         "Swimming Pool",
         "0.0",
         "139.41",
         "2003-02-10",
         "8"
        ],
        [
         "1258",
         "2003-02-24 08:00:00",
         "3",
         "Bungalow",
         null,
         "45.36",
         "2.68",
         "1.42",
         "Upper Middle",
         "0",
         null,
         "0.0",
         "160.31",
         "2003-02-24",
         "8"
        ],
        [
         "1297",
         "2003-03-09 08:00:00",
         "2",
         "1BHK",
         null,
         "54.55",
         "1.32",
         "1.14",
         "Middle",
         "0",
         "Fountain",
         "1.0",
         "118.93",
         "2003-03-09",
         "8"
        ],
        [
         "1309",
         "2003-03-13 08:00:00",
         "2",
         "Studio",
         null,
         "46.65",
         "1.61",
         "0.92",
         "Low",
         "0",
         "Garden",
         "0.0",
         "62.53",
         "2003-03-13",
         "8"
        ],
        [
         "1350",
         "2003-03-27 00:00:00",
         "2",
         "1BHK",
         null,
         "51.48",
         "1.26",
         "1.34",
         "Low",
         "0",
         "Garden",
         "0.0",
         "103.1",
         "2003-03-27",
         "0"
        ],
        [
         "1366",
         "2003-04-01 08:00:00",
         "2",
         "1BHK",
         null,
         "53.33",
         "1.21",
         "1.01",
         "Low",
         "1",
         null,
         "0.0",
         "83.72",
         "2003-04-01",
         "8"
        ],
        [
         "1386",
         "2003-04-08 00:00:00",
         "5",
         "2BHK",
         null,
         "63.26",
         "2.54",
         "0.89",
         "Upper Middle",
         "0",
         "Fountain",
         "0.0",
         "145.19",
         "2003-04-08",
         "0"
        ],
        [
         "1394",
         "2003-04-10 16:00:00",
         "2",
         "1BHK",
         null,
         "54.15",
         "1.46",
         "0.91",
         "Middle",
         "0",
         null,
         "0.0",
         "74.18",
         "2003-04-10",
         "16"
        ],
        [
         "1438",
         "2003-04-25 08:00:00",
         "5",
         "Bungalow",
         null,
         "53.62",
         "2.53",
         "1.13",
         "Upper Middle",
         "0",
         null,
         "0.0",
         "180.73",
         "2003-04-25",
         "8"
        ],
        [
         "1453",
         "2003-04-30 08:00:00",
         "2",
         "Cottage",
         null,
         "48.77",
         "1.72",
         "1.1",
         "Middle",
         "1",
         "Jacuzzi",
         "0.0",
         "137.69",
         "2003-04-30",
         "8"
        ],
        [
         "1467",
         "2003-05-05 00:00:00",
         "5",
         "Bungalow",
         null,
         "51.27",
         "2.67",
         "1.15",
         "Upper Middle",
         "0",
         "Swimming Pool",
         "0.0",
         "242.88",
         "2003-05-05",
         "0"
        ],
        [
         "1491",
         "2003-05-13 00:00:00",
         "4",
         "3BHK",
         null,
         "58.77",
         "1.54",
         "0.3578583942064874",
         "Upper Middle",
         "1",
         "Fountain",
         "1.0",
         "233.94",
         "2003-05-13",
         "0"
        ],
        [
         "1513",
         "2003-05-20 08:00:00",
         "3",
         "3BHK",
         null,
         "43.15",
         "2.84",
         "1.0",
         "Upper Middle",
         "0",
         null,
         "0.0",
         "128.71",
         "2003-05-20",
         "8"
        ]
       ],
       "shape": {
        "columns": 14,
        "rows": 441
       }
      },
      "text/html": [
       "<div>\n",
       "<style scoped>\n",
       "    .dataframe tbody tr th:only-of-type {\n",
       "        vertical-align: middle;\n",
       "    }\n",
       "\n",
       "    .dataframe tbody tr th {\n",
       "        vertical-align: top;\n",
       "    }\n",
       "\n",
       "    .dataframe thead th {\n",
       "        text-align: right;\n",
       "    }\n",
       "</style>\n",
       "<table border=\"1\" class=\"dataframe\">\n",
       "  <thead>\n",
       "    <tr style=\"text-align: right;\">\n",
       "      <th></th>\n",
       "      <th>Timestamp</th>\n",
       "      <th>Residents</th>\n",
       "      <th>Apartment_Type</th>\n",
       "      <th>Temperature</th>\n",
       "      <th>Humidity</th>\n",
       "      <th>Water_Price</th>\n",
       "      <th>Period_Consumption_Index</th>\n",
       "      <th>Income_Level</th>\n",
       "      <th>Guests</th>\n",
       "      <th>Amenities</th>\n",
       "      <th>Appliance_Usage</th>\n",
       "      <th>Water_Consumption</th>\n",
       "      <th>Date</th>\n",
       "      <th>Hour</th>\n",
       "    </tr>\n",
       "  </thead>\n",
       "  <tbody>\n",
       "    <tr>\n",
       "      <th>10</th>\n",
       "      <td>2002-01-04 08:00:00</td>\n",
       "      <td>3</td>\n",
       "      <td>2BHK</td>\n",
       "      <td>NaN</td>\n",
       "      <td>63.72</td>\n",
       "      <td>1.14</td>\n",
       "      <td>0.229422</td>\n",
       "      <td>Middle</td>\n",
       "      <td>0</td>\n",
       "      <td>NaN</td>\n",
       "      <td>1.0</td>\n",
       "      <td>91.71</td>\n",
       "      <td>2002-01-04</td>\n",
       "      <td>8</td>\n",
       "    </tr>\n",
       "    <tr>\n",
       "      <th>36</th>\n",
       "      <td>2002-01-13 00:00:00</td>\n",
       "      <td>5</td>\n",
       "      <td>Bungalow</td>\n",
       "      <td>NaN</td>\n",
       "      <td>60.18</td>\n",
       "      <td>2.39</td>\n",
       "      <td>1.060000</td>\n",
       "      <td>Upper Middle</td>\n",
       "      <td>1</td>\n",
       "      <td>Jacuzzi</td>\n",
       "      <td>1.0</td>\n",
       "      <td>284.16</td>\n",
       "      <td>2002-01-13</td>\n",
       "      <td>0</td>\n",
       "    </tr>\n",
       "    <tr>\n",
       "      <th>54</th>\n",
       "      <td>2002-01-19 00:00:00</td>\n",
       "      <td>4</td>\n",
       "      <td>Bungalow</td>\n",
       "      <td>NaN</td>\n",
       "      <td>54.11</td>\n",
       "      <td>1.55</td>\n",
       "      <td>0.880000</td>\n",
       "      <td>Upper Middle</td>\n",
       "      <td>0</td>\n",
       "      <td>Swimming Pool</td>\n",
       "      <td>0.0</td>\n",
       "      <td>169.06</td>\n",
       "      <td>2002-01-19</td>\n",
       "      <td>0</td>\n",
       "    </tr>\n",
       "    <tr>\n",
       "      <th>100</th>\n",
       "      <td>2002-02-03 08:00:00</td>\n",
       "      <td>3</td>\n",
       "      <td>1BHK</td>\n",
       "      <td>NaN</td>\n",
       "      <td>48.16</td>\n",
       "      <td>1.75</td>\n",
       "      <td>1.380000</td>\n",
       "      <td>Middle</td>\n",
       "      <td>0</td>\n",
       "      <td>NaN</td>\n",
       "      <td>0.0</td>\n",
       "      <td>145.27</td>\n",
       "      <td>2002-02-03</td>\n",
       "      <td>8</td>\n",
       "    </tr>\n",
       "    <tr>\n",
       "      <th>112</th>\n",
       "      <td>2002-02-07 08:00:00</td>\n",
       "      <td>4</td>\n",
       "      <td>Detached</td>\n",
       "      <td>NaN</td>\n",
       "      <td>49.47</td>\n",
       "      <td>1.82</td>\n",
       "      <td>1.280000</td>\n",
       "      <td>Rich</td>\n",
       "      <td>1</td>\n",
       "      <td>Jacuzzi</td>\n",
       "      <td>1.0</td>\n",
       "      <td>417.21</td>\n",
       "      <td>2002-02-07</td>\n",
       "      <td>8</td>\n",
       "    </tr>\n",
       "    <tr>\n",
       "      <th>...</th>\n",
       "      <td>...</td>\n",
       "      <td>...</td>\n",
       "      <td>...</td>\n",
       "      <td>...</td>\n",
       "      <td>...</td>\n",
       "      <td>...</td>\n",
       "      <td>...</td>\n",
       "      <td>...</td>\n",
       "      <td>...</td>\n",
       "      <td>...</td>\n",
       "      <td>...</td>\n",
       "      <td>...</td>\n",
       "      <td>...</td>\n",
       "      <td>...</td>\n",
       "    </tr>\n",
       "    <tr>\n",
       "      <th>13879</th>\n",
       "      <td>2014-09-01 08:00:00</td>\n",
       "      <td>1</td>\n",
       "      <td>Studio</td>\n",
       "      <td>NaN</td>\n",
       "      <td>64.99</td>\n",
       "      <td>1.78</td>\n",
       "      <td>1.460000</td>\n",
       "      <td>Low</td>\n",
       "      <td>0</td>\n",
       "      <td>Swimming Pool</td>\n",
       "      <td>1.0</td>\n",
       "      <td>107.35</td>\n",
       "      <td>2014-09-01</td>\n",
       "      <td>8</td>\n",
       "    </tr>\n",
       "    <tr>\n",
       "      <th>13899</th>\n",
       "      <td>2014-09-08 00:00:00</td>\n",
       "      <td>2</td>\n",
       "      <td>1BHK</td>\n",
       "      <td>NaN</td>\n",
       "      <td>48.66</td>\n",
       "      <td>1.47</td>\n",
       "      <td>1.270000</td>\n",
       "      <td>Middle</td>\n",
       "      <td>0</td>\n",
       "      <td>Fountain</td>\n",
       "      <td>0.0</td>\n",
       "      <td>129.73</td>\n",
       "      <td>2014-09-08</td>\n",
       "      <td>0</td>\n",
       "    </tr>\n",
       "    <tr>\n",
       "      <th>13929</th>\n",
       "      <td>2014-09-18 00:00:00</td>\n",
       "      <td>5</td>\n",
       "      <td>Bungalow</td>\n",
       "      <td>NaN</td>\n",
       "      <td>49.71</td>\n",
       "      <td>2.72</td>\n",
       "      <td>1.460000</td>\n",
       "      <td>Upper Middle</td>\n",
       "      <td>0</td>\n",
       "      <td>Swimming Pool</td>\n",
       "      <td>0.0</td>\n",
       "      <td>316.22</td>\n",
       "      <td>2014-09-18</td>\n",
       "      <td>0</td>\n",
       "    </tr>\n",
       "    <tr>\n",
       "      <th>13937</th>\n",
       "      <td>2014-09-20 16:00:00</td>\n",
       "      <td>3</td>\n",
       "      <td>Cottage</td>\n",
       "      <td>NaN</td>\n",
       "      <td>38.06</td>\n",
       "      <td>1.28</td>\n",
       "      <td>1.050000</td>\n",
       "      <td>Middle</td>\n",
       "      <td>0</td>\n",
       "      <td>NaN</td>\n",
       "      <td>0.0</td>\n",
       "      <td>113.42</td>\n",
       "      <td>2014-09-20</td>\n",
       "      <td>16</td>\n",
       "    </tr>\n",
       "    <tr>\n",
       "      <th>13997</th>\n",
       "      <td>2014-10-10 16:00:00</td>\n",
       "      <td>4</td>\n",
       "      <td>2BHK</td>\n",
       "      <td>NaN</td>\n",
       "      <td>46.93</td>\n",
       "      <td>1.22</td>\n",
       "      <td>1.100000</td>\n",
       "      <td>Middle</td>\n",
       "      <td>0</td>\n",
       "      <td>NaN</td>\n",
       "      <td>1.0</td>\n",
       "      <td>180.28</td>\n",
       "      <td>2014-10-10</td>\n",
       "      <td>16</td>\n",
       "    </tr>\n",
       "  </tbody>\n",
       "</table>\n",
       "<p>441 rows × 14 columns</p>\n",
       "</div>"
      ],
      "text/plain": [
       "                Timestamp  Residents Apartment_Type  Temperature  Humidity  \\\n",
       "10    2002-01-04 08:00:00          3           2BHK          NaN     63.72   \n",
       "36    2002-01-13 00:00:00          5       Bungalow          NaN     60.18   \n",
       "54    2002-01-19 00:00:00          4       Bungalow          NaN     54.11   \n",
       "100   2002-02-03 08:00:00          3           1BHK          NaN     48.16   \n",
       "112   2002-02-07 08:00:00          4       Detached          NaN     49.47   \n",
       "...                   ...        ...            ...          ...       ...   \n",
       "13879 2014-09-01 08:00:00          1         Studio          NaN     64.99   \n",
       "13899 2014-09-08 00:00:00          2           1BHK          NaN     48.66   \n",
       "13929 2014-09-18 00:00:00          5       Bungalow          NaN     49.71   \n",
       "13937 2014-09-20 16:00:00          3        Cottage          NaN     38.06   \n",
       "13997 2014-10-10 16:00:00          4           2BHK          NaN     46.93   \n",
       "\n",
       "       Water_Price  Period_Consumption_Index  Income_Level  Guests  \\\n",
       "10            1.14                  0.229422        Middle       0   \n",
       "36            2.39                  1.060000  Upper Middle       1   \n",
       "54            1.55                  0.880000  Upper Middle       0   \n",
       "100           1.75                  1.380000        Middle       0   \n",
       "112           1.82                  1.280000          Rich       1   \n",
       "...            ...                       ...           ...     ...   \n",
       "13879         1.78                  1.460000           Low       0   \n",
       "13899         1.47                  1.270000        Middle       0   \n",
       "13929         2.72                  1.460000  Upper Middle       0   \n",
       "13937         1.28                  1.050000        Middle       0   \n",
       "13997         1.22                  1.100000        Middle       0   \n",
       "\n",
       "           Amenities  Appliance_Usage  Water_Consumption        Date  Hour  \n",
       "10               NaN              1.0              91.71  2002-01-04     8  \n",
       "36           Jacuzzi              1.0             284.16  2002-01-13     0  \n",
       "54     Swimming Pool              0.0             169.06  2002-01-19     0  \n",
       "100              NaN              0.0             145.27  2002-02-03     8  \n",
       "112          Jacuzzi              1.0             417.21  2002-02-07     8  \n",
       "...              ...              ...                ...         ...   ...  \n",
       "13879  Swimming Pool              1.0             107.35  2014-09-01     8  \n",
       "13899       Fountain              0.0             129.73  2014-09-08     0  \n",
       "13929  Swimming Pool              0.0             316.22  2014-09-18     0  \n",
       "13937            NaN              0.0             113.42  2014-09-20    16  \n",
       "13997            NaN              1.0             180.28  2014-10-10    16  \n",
       "\n",
       "[441 rows x 14 columns]"
      ]
     },
     "execution_count": 75,
     "metadata": {},
     "output_type": "execute_result"
    }
   ],
   "source": [
    "df[df[\"Temperature\"].isnull()]"
   ]
  },
  {
   "cell_type": "code",
   "execution_count": 76,
   "metadata": {},
   "outputs": [],
   "source": [
    "# Replacing Temperature nulls with mean\n",
    "df.fillna({\"Temperature\": df[\"Temperature\"].mean()}, inplace=True)"
   ]
  },
  {
   "cell_type": "code",
   "execution_count": 78,
   "metadata": {},
   "outputs": [
    {
     "data": {
      "text/plain": [
       "<Axes: xlabel='Temperature', ylabel='Density'>"
      ]
     },
     "execution_count": 78,
     "metadata": {},
     "output_type": "execute_result"
    },
    {
     "data": {
      "image/png": "[encoded data removed]",
      "text/plain": [
       "<Figure size 640x480 with 1 Axes>"
      ]
     },
     "metadata": {},
     "output_type": "display_data"
    }
   ],
   "source": [
    "sns.kdeplot(df[\"Temperature\"])"
   ]
  },
  {
   "cell_type": "markdown",
   "metadata": {},
   "source": [
    "### Humidity\n"
   ]
  },
  {
   "cell_type": "code",
   "execution_count": 60,
   "metadata": {},
   "outputs": [
    {
     "name": "stdout",
     "output_type": "stream",
     "text": [
      "<class 'pandas.core.series.Series'>\n",
      "RangeIndex: 14000 entries, 0 to 13999\n",
      "Series name: Humidity\n",
      "Non-Null Count  Dtype \n",
      "--------------  ----- \n",
      "14000 non-null  object\n",
      "dtypes: object(1)\n",
      "memory usage: 109.5+ KB\n"
     ]
    }
   ],
   "source": [
    "df[\"Humidity\"].info()"
   ]
  },
  {
   "cell_type": "code",
   "execution_count": 61,
   "metadata": {},
   "outputs": [
    {
     "data": {
      "text/plain": [
       "2.835714285714286"
      ]
     },
     "execution_count": 61,
     "metadata": {},
     "output_type": "execute_result"
    }
   ],
   "source": [
    "(len(df[~df[\"Humidity\"].str.match(r\"^\\d*\\.?\\d*$\", na=False)]) / len(df)) * 100"
   ]
  },
  {
   "cell_type": "code",
   "execution_count": 63,
   "metadata": {},
   "outputs": [],
   "source": [
    "df.loc[~df[\"Humidity\"].str.match(r\"^\\d*\\.?\\d*$\", na=False), \"Humidity\"] = np.nan"
   ]
  },
  {
   "cell_type": "code",
   "execution_count": 64,
   "metadata": {},
   "outputs": [],
   "source": [
    "df[\"Humidity\"] = df[\"Humidity\"].astype(\"float64\")\n",
    "df.loc[df[\"Humidity\"] > 100, \"Humidity\"] = np.nan"
   ]
  },
  {
   "cell_type": "code",
   "execution_count": 65,
   "metadata": {},
   "outputs": [
    {
     "name": "stdout",
     "output_type": "stream",
     "text": [
      "<class 'pandas.core.series.Series'>\n",
      "RangeIndex: 14000 entries, 0 to 13999\n",
      "Series name: Humidity\n",
      "Non-Null Count  Dtype  \n",
      "--------------  -----  \n",
      "13602 non-null  float64\n",
      "dtypes: float64(1)\n",
      "memory usage: 109.5 KB\n"
     ]
    }
   ],
   "source": [
    "df[\"Humidity\"].info()"
   ]
  },
  {
   "cell_type": "code",
   "execution_count": 66,
   "metadata": {},
   "outputs": [
    {
     "data": {
      "text/plain": [
       "count    13602.000000\n",
       "mean        53.141759\n",
       "std         10.184530\n",
       "min         10.000000\n",
       "25%         46.200000\n",
       "50%         53.250000\n",
       "75%         60.020000\n",
       "max         90.000000\n",
       "Name: Humidity, dtype: float64"
      ]
     },
     "execution_count": 66,
     "metadata": {},
     "output_type": "execute_result"
    }
   ],
   "source": [
    "df[\"Humidity\"].describe()"
   ]
  },
  {
   "cell_type": "code",
   "execution_count": 67,
   "metadata": {},
   "outputs": [
    {
     "data": {
      "text/plain": [
       "<Axes: xlabel='Humidity', ylabel='Density'>"
      ]
     },
     "execution_count": 67,
     "metadata": {},
     "output_type": "execute_result"
    },
    {
     "data": {
      "image/png": "[encoded data removed]",
      "text/plain": [
       "<Figure size 640x480 with 1 Axes>"
      ]
     },
     "metadata": {},
     "output_type": "display_data"
    }
   ],
   "source": [
    "sns.kdeplot(df[\"Humidity\"])"
   ]
  },
  {
   "cell_type": "code",
   "execution_count": 71,
   "metadata": {},
   "outputs": [],
   "source": [
    "df.fillna({\"Humidity\": df[\"Humidity\"].mean()}, inplace=True)"
   ]
  },
  {
   "cell_type": "code",
   "execution_count": 73,
   "metadata": {},
   "outputs": [
    {
     "name": "stdout",
     "output_type": "stream",
     "text": [
      "<class 'pandas.core.series.Series'>\n",
      "RangeIndex: 14000 entries, 0 to 13999\n",
      "Series name: Humidity\n",
      "Non-Null Count  Dtype  \n",
      "--------------  -----  \n",
      "14000 non-null  float64\n",
      "dtypes: float64(1)\n",
      "memory usage: 109.5 KB\n"
     ]
    }
   ],
   "source": [
    "df[\"Humidity\"].info()"
   ]
  },
  {
   "cell_type": "code",
   "execution_count": 74,
   "metadata": {},
   "outputs": [
    {
     "data": {
      "text/plain": [
       "<Axes: xlabel='Humidity', ylabel='Density'>"
      ]
     },
     "execution_count": 74,
     "metadata": {},
     "output_type": "execute_result"
    },
    {
     "data": {
      "image/png": "[encoded data removed]",
      "text/plain": [
       "<Figure size 640x480 with 1 Axes>"
      ]
     },
     "metadata": {},
     "output_type": "display_data"
    }
   ],
   "source": [
    "sns.kdeplot(df[\"Humidity\"])"
   ]
  },
  {
   "cell_type": "markdown",
   "metadata": {},
   "source": [
    "### Water Price\n"
   ]
  },
  {
   "cell_type": "code",
   "execution_count": 81,
   "metadata": {},
   "outputs": [
    {
     "name": "stdout",
     "output_type": "stream",
     "text": [
      "<class 'pandas.core.series.Series'>\n",
      "RangeIndex: 14000 entries, 0 to 13999\n",
      "Series name: Water_Price\n",
      "Non-Null Count  Dtype  \n",
      "--------------  -----  \n",
      "14000 non-null  float64\n",
      "dtypes: float64(1)\n",
      "memory usage: 109.5 KB\n"
     ]
    }
   ],
   "source": [
    "df[\"Water_Price\"].info()"
   ]
  },
  {
   "cell_type": "code",
   "execution_count": 82,
   "metadata": {},
   "outputs": [
    {
     "data": {
      "text/plain": [
       "<Axes: xlabel='Water_Price', ylabel='Density'>"
      ]
     },
     "execution_count": 82,
     "metadata": {},
     "output_type": "execute_result"
    },
    {
     "data": {
      "image/png": "[encoded data removed]",
      "text/plain": [
       "<Figure size 640x480 with 1 Axes>"
      ]
     },
     "metadata": {},
     "output_type": "display_data"
    }
   ],
   "source": [
    "sns.kdeplot(df[\"Water_Price\"])"
   ]
  },
  {
   "cell_type": "code",
   "execution_count": 83,
   "metadata": {},
   "outputs": [
    {
     "data": {
      "text/plain": [
       "count    14000.000000\n",
       "mean         0.657924\n",
       "std          8.765776\n",
       "min        -99.000000\n",
       "25%          1.320000\n",
       "50%          1.630000\n",
       "75%          2.112500\n",
       "max          3.000000\n",
       "Name: Water_Price, dtype: float64"
      ]
     },
     "execution_count": 83,
     "metadata": {},
     "output_type": "execute_result"
    }
   ],
   "source": [
    "df[\"Water_Price\"].describe()"
   ]
  },
  {
   "cell_type": "code",
   "execution_count": 87,
   "metadata": {},
   "outputs": [
    {
     "data": {
      "text/plain": [
       "1.9428571428571426"
      ]
     },
     "execution_count": 87,
     "metadata": {},
     "output_type": "execute_result"
    }
   ],
   "source": [
    "(len(df[df[\"Water_Price\"] < 0]) / len(df)) * 100"
   ]
  },
  {
   "cell_type": "markdown",
   "metadata": {},
   "source": [
    "1.9% of data has negative Water_Price, we will replace that with mean of Water_Price (mean will exclude the negatvie values)\n"
   ]
  },
  {
   "cell_type": "code",
   "execution_count": 88,
   "metadata": {},
   "outputs": [],
   "source": [
    "df.loc[df[\"Water_Price\"] < 0, \"Water_Price\"] = np.nan"
   ]
  },
  {
   "cell_type": "code",
   "execution_count": 91,
   "metadata": {},
   "outputs": [],
   "source": [
    "df.fillna({\"Water_Price\": round(df[\"Water_Price\"].mean(), 2)}, inplace=True)"
   ]
  },
  {
   "cell_type": "code",
   "execution_count": 92,
   "metadata": {},
   "outputs": [
    {
     "data": {
      "text/plain": [
       "<Axes: ylabel='Density'>"
      ]
     },
     "execution_count": 92,
     "metadata": {},
     "output_type": "execute_result"
    },
    {
     "data": {
      "image/png": "[encoded data removed]",
      "text/plain": [
       "<Figure size 640x480 with 1 Axes>"
      ]
     },
     "metadata": {},
     "output_type": "display_data"
    }
   ],
   "source": [
    "sns.kdeplot(df[[\"Water_Price\"]])"
   ]
  },
  {
   "cell_type": "markdown",
   "metadata": {},
   "source": [
    "### Period_Consumption_Index\n",
    "\n",
    "Represents the relative water usage for each 8-hour period\n"
   ]
  },
  {
   "cell_type": "code",
   "execution_count": 94,
   "metadata": {},
   "outputs": [
    {
     "name": "stdout",
     "output_type": "stream",
     "text": [
      "<class 'pandas.core.series.Series'>\n",
      "RangeIndex: 14000 entries, 0 to 13999\n",
      "Series name: Period_Consumption_Index\n",
      "Non-Null Count  Dtype  \n",
      "--------------  -----  \n",
      "14000 non-null  float64\n",
      "dtypes: float64(1)\n",
      "memory usage: 109.5 KB\n"
     ]
    }
   ],
   "source": [
    "df[\"Period_Consumption_Index\"].info()"
   ]
  },
  {
   "cell_type": "code",
   "execution_count": 95,
   "metadata": {},
   "outputs": [
    {
     "data": {
      "text/plain": [
       "<Axes: xlabel='Period_Consumption_Index', ylabel='Density'>"
      ]
     },
     "execution_count": 95,
     "metadata": {},
     "output_type": "execute_result"
    },
    {
     "data": {
      "image/png": "[encoded data removed]",
      "text/plain": [
       "<Figure size 640x480 with 1 Axes>"
      ]
     },
     "metadata": {},
     "output_type": "display_data"
    }
   ],
   "source": [
    "sns.kdeplot(df[\"Period_Consumption_Index\"])"
   ]
  },
  {
   "cell_type": "code",
   "execution_count": 96,
   "metadata": {},
   "outputs": [
    {
     "data": {
      "text/plain": [
       "count    14000.000000\n",
       "mean         1.152890\n",
       "std          0.229047\n",
       "min         -0.130782\n",
       "25%          0.970000\n",
       "50%          1.150000\n",
       "75%          1.330000\n",
       "max          2.352311\n",
       "Name: Period_Consumption_Index, dtype: float64"
      ]
     },
     "execution_count": 96,
     "metadata": {},
     "output_type": "execute_result"
    }
   ],
   "source": [
    "df[\"Period_Consumption_Index\"].describe()"
   ]
  },
  {
   "cell_type": "code",
   "execution_count": 97,
   "metadata": {},
   "outputs": [
    {
     "data": {
      "application/vnd.microsoft.datawrangler.viewer.v0+json": {
       "columns": [
        {
         "name": "index",
         "rawType": "int64",
         "type": "integer"
        },
        {
         "name": "Timestamp",
         "rawType": "datetime64[ns]",
         "type": "datetime"
        },
        {
         "name": "Residents",
         "rawType": "int64",
         "type": "integer"
        },
        {
         "name": "Apartment_Type",
         "rawType": "object",
         "type": "string"
        },
        {
         "name": "Temperature",
         "rawType": "float64",
         "type": "float"
        },
        {
         "name": "Humidity",
         "rawType": "float64",
         "type": "float"
        },
        {
         "name": "Water_Price",
         "rawType": "float64",
         "type": "float"
        },
        {
         "name": "Period_Consumption_Index",
         "rawType": "float64",
         "type": "float"
        },
        {
         "name": "Income_Level",
         "rawType": "object",
         "type": "string"
        },
        {
         "name": "Guests",
         "rawType": "int64",
         "type": "integer"
        },
        {
         "name": "Amenities",
         "rawType": "object",
         "type": "unknown"
        },
        {
         "name": "Appliance_Usage",
         "rawType": "float64",
         "type": "float"
        },
        {
         "name": "Water_Consumption",
         "rawType": "float64",
         "type": "float"
        },
        {
         "name": "Date",
         "rawType": "object",
         "type": "unknown"
        },
        {
         "name": "Hour",
         "rawType": "int32",
         "type": "integer"
        }
       ],
       "conversionMethod": "pd.DataFrame",
       "ref": "adb64667-91d1-4fd1-b543-f7af3a3a96fc",
       "rows": [
        [
         "3149",
         "2004-11-15 16:00:00",
         "2",
         "Cottage",
         "25.05",
         "65.7",
         "1.26",
         "-0.130782308337841",
         "zjhwd",
         "0",
         "Garden",
         "0.0",
         "98.54",
         "2004-11-15",
         "16"
        ],
        [
         "3355",
         "2005-01-23 08:00:00",
         "4",
         "3BHK",
         "22.77",
         "47.07",
         "2.61",
         "-0.0140125589325311",
         "Upper Middle",
         "1",
         null,
         "0.0",
         "240.22",
         "2005-01-23",
         "8"
        ]
       ],
       "shape": {
        "columns": 14,
        "rows": 2
       }
      },
      "text/html": [
       "<div>\n",
       "<style scoped>\n",
       "    .dataframe tbody tr th:only-of-type {\n",
       "        vertical-align: middle;\n",
       "    }\n",
       "\n",
       "    .dataframe tbody tr th {\n",
       "        vertical-align: top;\n",
       "    }\n",
       "\n",
       "    .dataframe thead th {\n",
       "        text-align: right;\n",
       "    }\n",
       "</style>\n",
       "<table border=\"1\" class=\"dataframe\">\n",
       "  <thead>\n",
       "    <tr style=\"text-align: right;\">\n",
       "      <th></th>\n",
       "      <th>Timestamp</th>\n",
       "      <th>Residents</th>\n",
       "      <th>Apartment_Type</th>\n",
       "      <th>Temperature</th>\n",
       "      <th>Humidity</th>\n",
       "      <th>Water_Price</th>\n",
       "      <th>Period_Consumption_Index</th>\n",
       "      <th>Income_Level</th>\n",
       "      <th>Guests</th>\n",
       "      <th>Amenities</th>\n",
       "      <th>Appliance_Usage</th>\n",
       "      <th>Water_Consumption</th>\n",
       "      <th>Date</th>\n",
       "      <th>Hour</th>\n",
       "    </tr>\n",
       "  </thead>\n",
       "  <tbody>\n",
       "    <tr>\n",
       "      <th>3149</th>\n",
       "      <td>2004-11-15 16:00:00</td>\n",
       "      <td>2</td>\n",
       "      <td>Cottage</td>\n",
       "      <td>25.05</td>\n",
       "      <td>65.70</td>\n",
       "      <td>1.26</td>\n",
       "      <td>-0.130782</td>\n",
       "      <td>zjhwd</td>\n",
       "      <td>0</td>\n",
       "      <td>Garden</td>\n",
       "      <td>0.0</td>\n",
       "      <td>98.54</td>\n",
       "      <td>2004-11-15</td>\n",
       "      <td>16</td>\n",
       "    </tr>\n",
       "    <tr>\n",
       "      <th>3355</th>\n",
       "      <td>2005-01-23 08:00:00</td>\n",
       "      <td>4</td>\n",
       "      <td>3BHK</td>\n",
       "      <td>22.77</td>\n",
       "      <td>47.07</td>\n",
       "      <td>2.61</td>\n",
       "      <td>-0.014013</td>\n",
       "      <td>Upper Middle</td>\n",
       "      <td>1</td>\n",
       "      <td>NaN</td>\n",
       "      <td>0.0</td>\n",
       "      <td>240.22</td>\n",
       "      <td>2005-01-23</td>\n",
       "      <td>8</td>\n",
       "    </tr>\n",
       "  </tbody>\n",
       "</table>\n",
       "</div>"
      ],
      "text/plain": [
       "               Timestamp  Residents Apartment_Type  Temperature  Humidity  \\\n",
       "3149 2004-11-15 16:00:00          2        Cottage        25.05     65.70   \n",
       "3355 2005-01-23 08:00:00          4           3BHK        22.77     47.07   \n",
       "\n",
       "      Water_Price  Period_Consumption_Index  Income_Level  Guests Amenities  \\\n",
       "3149         1.26                 -0.130782         zjhwd       0    Garden   \n",
       "3355         2.61                 -0.014013  Upper Middle       1       NaN   \n",
       "\n",
       "      Appliance_Usage  Water_Consumption        Date  Hour  \n",
       "3149              0.0              98.54  2004-11-15    16  \n",
       "3355              0.0             240.22  2005-01-23     8  "
      ]
     },
     "execution_count": 97,
     "metadata": {},
     "output_type": "execute_result"
    }
   ],
   "source": [
    "df[df[\"Period_Consumption_Index\"] < 0]"
   ]
  },
  {
   "cell_type": "markdown",
   "metadata": {},
   "source": [
    "Since the negative values are negligible, we will convert them to positive\n"
   ]
  },
  {
   "cell_type": "code",
   "execution_count": 100,
   "metadata": {},
   "outputs": [],
   "source": [
    "df[\"Period_Consumption_Index\"] = df[\"Period_Consumption_Index\"].abs()"
   ]
  },
  {
   "cell_type": "code",
   "execution_count": 101,
   "metadata": {},
   "outputs": [
    {
     "data": {
      "text/plain": [
       "<Axes: xlabel='Period_Consumption_Index', ylabel='Density'>"
      ]
     },
     "execution_count": 101,
     "metadata": {},
     "output_type": "execute_result"
    },
    {
     "data": {
      "image/png": "[encoded data removed]",
      "text/plain": [
       "<Figure size 640x480 with 1 Axes>"
      ]
     },
     "metadata": {},
     "output_type": "display_data"
    }
   ],
   "source": [
    "sns.kdeplot(df[\"Period_Consumption_Index\"])"
   ]
  },
  {
   "cell_type": "markdown",
   "metadata": {},
   "source": [
    "### Income_Level\n"
   ]
  },
  {
   "cell_type": "code",
   "execution_count": 104,
   "metadata": {},
   "outputs": [
    {
     "name": "stdout",
     "output_type": "stream",
     "text": [
      "<class 'pandas.core.series.Series'>\n",
      "RangeIndex: 14000 entries, 0 to 13999\n",
      "Series name: Income_Level\n",
      "Non-Null Count  Dtype \n",
      "--------------  ----- \n",
      "13574 non-null  object\n",
      "dtypes: object(1)\n",
      "memory usage: 109.5+ KB\n"
     ]
    }
   ],
   "source": [
    "df[\"Income_Level\"].info()"
   ]
  },
  {
   "cell_type": "code",
   "execution_count": 109,
   "metadata": {},
   "outputs": [
    {
     "data": {
      "text/plain": [
       "Income_Level\n",
       "Middle          5323\n",
       "Upper Middle    3966\n",
       "Low             2276\n",
       "Rich            1593\n",
       "`Y.&f              1\n",
       "                ... \n",
       "mk8z:              1\n",
       "@?6Du              1\n",
       "\\E>Y(              1\n",
       "(GdBb              1\n",
       "yePea              1\n",
       "Name: count, Length: 420, dtype: int64"
      ]
     },
     "execution_count": 109,
     "metadata": {},
     "output_type": "execute_result"
    }
   ],
   "source": [
    "df[\"Income_Level\"].value_counts()"
   ]
  },
  {
   "cell_type": "code",
   "execution_count": 120,
   "metadata": {},
   "outputs": [
    {
     "data": {
      "application/vnd.microsoft.datawrangler.viewer.v0+json": {
       "columns": [
        {
         "name": "index",
         "rawType": "int64",
         "type": "integer"
        },
        {
         "name": "Timestamp",
         "rawType": "datetime64[ns]",
         "type": "datetime"
        },
        {
         "name": "Residents",
         "rawType": "int64",
         "type": "integer"
        },
        {
         "name": "Apartment_Type",
         "rawType": "object",
         "type": "unknown"
        },
        {
         "name": "Temperature",
         "rawType": "float64",
         "type": "float"
        },
        {
         "name": "Humidity",
         "rawType": "float64",
         "type": "float"
        },
        {
         "name": "Water_Price",
         "rawType": "float64",
         "type": "float"
        },
        {
         "name": "Period_Consumption_Index",
         "rawType": "float64",
         "type": "float"
        },
        {
         "name": "Income_Level",
         "rawType": "object",
         "type": "string"
        },
        {
         "name": "Guests",
         "rawType": "int64",
         "type": "integer"
        },
        {
         "name": "Amenities",
         "rawType": "object",
         "type": "unknown"
        },
        {
         "name": "Appliance_Usage",
         "rawType": "float64",
         "type": "float"
        },
        {
         "name": "Water_Consumption",
         "rawType": "float64",
         "type": "float"
        },
        {
         "name": "Date",
         "rawType": "object",
         "type": "unknown"
        },
        {
         "name": "Hour",
         "rawType": "int32",
         "type": "integer"
        }
       ],
       "conversionMethod": "pd.DataFrame",
       "ref": "d14d6fa8-db5f-4232-9a86-4b3af1dcf6d0",
       "rows": [
        [
         "0",
         "2002-01-01 00:00:00",
         "1",
         "Studio",
         "15.31",
         "46.61",
         "1.06",
         "0.97",
         "Low",
         "0",
         "Swimming Pool",
         "0.0",
         "64.85",
         "2002-01-01",
         "0"
        ],
        [
         "1",
         "2002-01-01 08:00:00",
         "4",
         null,
         "21.01",
         "66.11",
         "2.98",
         "0.91",
         "Upper Middle",
         "1",
         "Swimming Pool",
         "1.0",
         "192.5",
         "2002-01-01",
         "8"
        ],
        [
         "2",
         "2002-01-01 16:00:00",
         "2",
         "Cottage",
         "12.86",
         "60.86",
         "1.44",
         "1.43",
         "Middle",
         "0",
         null,
         "1.0",
         "116.62",
         "2002-01-01",
         "16"
        ],
        [
         "3",
         "2002-01-02 00:00:00",
         "2",
         "1BHK",
         "20.16",
         "50.58",
         "1.48",
         "0.91",
         "Middle",
         "-1",
         "Garden",
         "0.0",
         "76.96",
         "2002-01-02",
         "0"
        ],
        [
         "4",
         "2002-01-02 08:00:00",
         "2",
         "Cottage",
         "16.23",
         "52.25",
         "1.14",
         "1.11",
         "Middle",
         "0",
         "Fountain",
         "0.0",
         "104.7",
         "2002-01-02",
         "8"
        ],
        [
         "5",
         "2002-01-02 16:00:00",
         "4",
         "2BHK",
         "22.23",
         "53.86",
         "1.15",
         "1.46",
         "Middle",
         "0",
         null,
         "1.0",
         "218.23",
         "2002-01-02",
         "16"
        ],
        [
         "6",
         "2002-01-03 00:00:00",
         "3",
         "2BHK",
         "10.83",
         "57.51",
         "2.98",
         "1.07",
         "Upper Middle",
         "0",
         "Swimming Pool",
         "0.0",
         "135.8",
         "2002-01-03",
         "0"
        ],
        [
         "8",
         "2002-01-03 16:00:00",
         "4",
         "Bungalow",
         "16.57",
         "57.94",
         "2.84",
         "1.47",
         "Upper Middle",
         "0",
         "Garden",
         "0.0",
         "188.04",
         "2002-01-03",
         "16"
        ],
        [
         "9",
         "2002-01-04 00:00:00",
         "2",
         null,
         "22.59",
         "57.25",
         "1.11",
         "0.99",
         "Low",
         "1",
         null,
         "1.0",
         "88.94",
         "2002-01-04",
         "0"
        ],
        [
         "10",
         "2002-01-04 08:00:00",
         "3",
         "2BHK",
         "22.566559480787667",
         "63.72",
         "1.14",
         "0.2294217559681648",
         "Middle",
         "0",
         null,
         "1.0",
         "91.71",
         "2002-01-04",
         "8"
        ],
        [
         "11",
         "2002-01-04 16:00:00",
         "3",
         "1BHK",
         "30.7",
         "62.17",
         "1.07",
         "0.91",
         "Middle",
         "0",
         "Garden",
         "0.0",
         "96.72",
         "2002-01-04",
         "16"
        ],
        [
         "12",
         "2002-01-05 00:00:00",
         "2",
         "Cottage",
         "29.6",
         "30.7",
         "1.66",
         "1.3",
         "Middle",
         "1",
         null,
         "0.0",
         "152.87",
         "2002-01-05",
         "0"
        ],
        [
         "13",
         "2002-01-05 08:00:00",
         "-11",
         "Studio",
         "14.5",
         "70.0",
         "1.56",
         "1.14",
         "Low",
         "1",
         "Swimming Pool",
         "0.0",
         "75.05",
         "2002-01-05",
         "8"
        ],
        [
         "14",
         "2002-01-05 16:00:00",
         "5",
         "2BHK",
         "17.34",
         "49.39",
         "1.11",
         "1.23",
         "Middle",
         "1",
         null,
         "0.0",
         "219.84",
         "2002-01-05",
         "16"
        ],
        [
         "15",
         "2002-01-06 00:00:00",
         "3",
         "1BHK",
         "18.55",
         "61.02",
         "1.73",
         "1.41",
         "Low",
         "1",
         null,
         "0.0",
         "136.38",
         "2002-01-06",
         "0"
        ],
        [
         "16",
         "2002-01-06 08:00:00",
         "4",
         "2BHK",
         "26.04",
         "52.99",
         "1.09",
         "1.36",
         "Middle",
         "1",
         null,
         "0.0",
         "220.55",
         "2002-01-06",
         "8"
        ],
        [
         "17",
         "2002-01-06 16:00:00",
         "4",
         null,
         "28.03",
         "48.72",
         "1.55",
         "1.33",
         "Middle",
         "0",
         null,
         "1.0",
         "210.84",
         "2002-01-06",
         "16"
        ],
        [
         "18",
         "2002-01-07 00:00:00",
         "5",
         "3BHK",
         "18.41",
         "48.28",
         "2.94",
         "1.35",
         "Rich",
         "1",
         "Swimming Pool",
         "0.0",
         "409.67",
         "2002-01-07",
         "0"
        ],
        [
         "19",
         "2002-01-07 08:00:00",
         "3",
         "3BHK",
         "28.22",
         "76.93",
         "2.33",
         "0.98",
         "Rich",
         "0",
         "Fountain",
         "0.0",
         "152.83",
         "2002-01-07",
         "8"
        ],
        [
         "20",
         "2002-01-07 16:00:00",
         "3",
         "Bungalow",
         "16.93",
         "45.3",
         "1.81",
         "1.05",
         "Upper Middle",
         "1",
         "Swimming Pool",
         "0.0",
         "195.02",
         "2002-01-07",
         "16"
        ],
        [
         "21",
         "2002-01-08 00:00:00",
         "4",
         "2BHK",
         "20.75",
         "59.79",
         "2.23",
         "0.93",
         "Upper Middle",
         "1",
         null,
         "0.0",
         "143.08",
         "2002-01-08",
         "0"
        ],
        [
         "22",
         "2002-01-08 08:00:00",
         "1",
         "Studio",
         "14.68",
         "41.82",
         "1.33",
         "1.03",
         "Low",
         "0",
         "Swimming Pool",
         "0.0",
         "69.13",
         "2002-01-08",
         "8"
        ],
        [
         "23",
         "2002-01-08 16:00:00",
         "4",
         "2BHK",
         "28.79",
         "73.04",
         "2.03",
         "1.31",
         "Upper Middle",
         "0",
         null,
         "0.0",
         "163.73",
         "2002-01-08",
         "16"
        ],
        [
         "24",
         "2002-01-09 00:00:00",
         "3",
         "1BHK",
         "20.94",
         "39.57",
         "1.51",
         "1.36",
         "Low",
         "1",
         "Garden",
         "0.0",
         "164.23",
         "2002-01-09",
         "0"
        ],
        [
         "25",
         "2002-01-09 08:00:00",
         "3",
         "3BHK",
         "17.86",
         "55.42",
         "2.5",
         "1.25",
         "Rich",
         "0",
         null,
         "0.0",
         "173.07",
         "2002-01-09",
         "8"
        ],
        [
         "26",
         "2002-01-09 16:00:00",
         "4",
         "2BHK",
         "27.01",
         "43.57",
         "2.27",
         "0.8",
         "Upper Middle",
         "0",
         "Fountain",
         "0.0",
         "144.6",
         "2002-01-09",
         "16"
        ],
        [
         "27",
         "2002-01-10 00:00:00",
         "3",
         "2BHK",
         "22.24",
         "43.24",
         "1.79",
         "1.2",
         "Middle",
         "0",
         "Swimming Pool",
         "1.0",
         "205.6",
         "2002-01-10",
         "0"
        ],
        [
         "28",
         "2002-01-10 08:00:00",
         "3",
         "1BHK",
         "12.71",
         "55.74",
         "1.33",
         "1.23",
         "Middle",
         "0",
         null,
         "0.0",
         "110.66",
         "2002-01-10",
         "8"
        ],
        [
         "29",
         "2002-01-10 16:00:00",
         "4",
         "Detached",
         "16.4",
         "55.73",
         "2.19",
         "1.3",
         "Rich",
         "0",
         null,
         "0.0",
         "213.5",
         "2002-01-10",
         "16"
        ],
        [
         "30",
         "2002-01-11 00:00:00",
         "4",
         "3BHK",
         "21.73",
         "44.83",
         "1.67",
         "1.19",
         "Upper Middle",
         "1",
         null,
         "0.0",
         "228.76",
         "2002-01-11",
         "0"
        ],
        [
         "31",
         "2002-01-11 08:00:00",
         "1",
         "Studio",
         "25.32",
         "61.95",
         "1.38",
         "1.35",
         "Low",
         "0",
         null,
         "1.0",
         "76.62",
         "2002-01-11",
         "8"
        ],
        [
         "32",
         "2002-01-11 16:00:00",
         "3",
         "Bungalow",
         "17.29",
         "55.64",
         "2.09",
         "1.48",
         "Upper Middle",
         "0",
         "Swimming Pool",
         "0.0",
         "209.99",
         "2002-01-11",
         "16"
        ],
        [
         "33",
         "2002-01-12 00:00:00",
         "2",
         "1BHK",
         "10.92",
         "54.22",
         "1.29",
         "0.7007671115482917",
         "Middle",
         "0",
         null,
         "0.0",
         "100.12",
         "2002-01-12",
         "0"
        ],
        [
         "34",
         "2002-01-12 08:00:00",
         "5",
         "Bungalow",
         "15.98",
         "62.72",
         "1.7",
         "1.05",
         "Rich",
         "0",
         "Garden",
         "0.0",
         "187.01",
         "2002-01-12",
         "8"
        ],
        [
         "35",
         "2002-01-12 16:00:00",
         "5",
         "2BHK",
         "17.77",
         "47.88",
         "1.21",
         "1.11",
         "Middle",
         "0",
         "Fountain",
         "0.0",
         "200.5",
         "2002-01-12",
         "16"
        ],
        [
         "36",
         "2002-01-13 00:00:00",
         "5",
         "Bungalow",
         "22.566559480787667",
         "60.18",
         "2.39",
         "1.06",
         "Upper Middle",
         "1",
         "Jacuzzi",
         "1.0",
         "284.16",
         "2002-01-13",
         "0"
        ],
        [
         "37",
         "2002-01-13 08:00:00",
         "3",
         "Cottage",
         "23.78",
         "42.78",
         "1.71",
         "1.49",
         "Middle",
         "1",
         "Jacuzzi",
         "0.0",
         "236.31",
         "2002-01-13",
         "8"
        ],
        [
         "38",
         "2002-01-13 16:00:00",
         "3",
         "Detached",
         "16.53",
         "48.87",
         "2.32",
         "1.43",
         "Rich",
         "1",
         null,
         "0.0",
         "249.25",
         "2002-01-13",
         "16"
        ],
        [
         "39",
         "2002-01-14 00:00:00",
         "4",
         "3BHK",
         "20.68",
         "51.72",
         "2.14",
         "0.88",
         "Upper Middle",
         "0",
         "Garden",
         "0.0",
         "137.08",
         "2002-01-14",
         "0"
        ],
        [
         "40",
         "2002-01-14 08:00:00",
         "3",
         "1BHK",
         "20.65",
         "43.42",
         "1.56",
         "0.92",
         "Low",
         "-1",
         "Garden",
         "0.0",
         "89.85",
         "2002-01-14",
         "8"
        ],
        [
         "41",
         "2002-01-14 16:00:00",
         "3",
         "Cottage",
         "11.33",
         "43.03",
         "1.08",
         "1.13",
         "Middle",
         "1",
         "Fountain",
         "0.0",
         "132.7",
         "2002-01-14",
         "16"
        ],
        [
         "42",
         "2002-01-15 00:00:00",
         "3",
         "1BHK",
         "32.08",
         "57.74",
         "1.76",
         "1.07",
         "Middle",
         "0",
         "Swimming Pool",
         "0.0",
         "146.32",
         "2002-01-15",
         "0"
        ],
        [
         "43",
         "2002-01-15 08:00:00",
         "4",
         "Bungalow",
         "11.12",
         "35.54",
         "2.18",
         "0.1446200871128244",
         "Upper Middle",
         "0",
         null,
         "0.0",
         "112.7",
         "2002-01-15",
         "8"
        ],
        [
         "44",
         "2002-01-15 16:00:00",
         "3",
         "1BHK",
         "32.88",
         "55.81",
         "1.71",
         "1.43",
         "Middle",
         "1",
         null,
         "1.0",
         "206.36",
         "2002-01-15",
         "16"
        ],
        [
         "46",
         "2002-01-16 08:00:00",
         "3",
         "Cottage",
         "12.7",
         "59.92",
         "1.22",
         "1.18",
         "Middle",
         "1",
         "Jacuzzi",
         "0.0",
         "155.42",
         "2002-01-16",
         "8"
        ],
        [
         "47",
         "2002-01-16 16:00:00",
         "3",
         "2BHK",
         "20.55",
         "59.49",
         "2.99",
         "1.16",
         "Upper Middle",
         "0",
         null,
         "0.0",
         "121.11",
         "2002-01-16",
         "16"
        ],
        [
         "48",
         "2002-01-17 00:00:00",
         "5",
         "2BHK",
         "26.28",
         "57.79",
         "1.63",
         "0.82",
         "Middle",
         "0",
         null,
         "0.0",
         "120.55",
         "2002-01-17",
         "0"
        ],
        [
         "49",
         "2002-01-17 08:00:00",
         "-66",
         "Bungalow",
         "10.18",
         "48.38",
         "2.93",
         "1.36",
         "Upper Middle",
         "0",
         "Jacuzzi",
         "0.0",
         "175.97",
         "2002-01-17",
         "8"
        ],
        [
         "50",
         "2002-01-17 16:00:00",
         "2",
         "Cottage",
         "19.89",
         "59.13",
         "1.17",
         "1.28",
         "Middle",
         "1",
         "Garden",
         "0.0",
         "124.49",
         "2002-01-17",
         "16"
        ],
        [
         "51",
         "2002-01-18 00:00:00",
         "2",
         "1BHK",
         "19.21",
         "49.78",
         "1.35",
         "1.47",
         "Low",
         "0",
         null,
         "0.0",
         "107.52",
         "2002-01-18",
         "0"
        ]
       ],
       "shape": {
        "columns": 14,
        "rows": 13158
       }
      },
      "text/html": [
       "<div>\n",
       "<style scoped>\n",
       "    .dataframe tbody tr th:only-of-type {\n",
       "        vertical-align: middle;\n",
       "    }\n",
       "\n",
       "    .dataframe tbody tr th {\n",
       "        vertical-align: top;\n",
       "    }\n",
       "\n",
       "    .dataframe thead th {\n",
       "        text-align: right;\n",
       "    }\n",
       "</style>\n",
       "<table border=\"1\" class=\"dataframe\">\n",
       "  <thead>\n",
       "    <tr style=\"text-align: right;\">\n",
       "      <th></th>\n",
       "      <th>Timestamp</th>\n",
       "      <th>Residents</th>\n",
       "      <th>Apartment_Type</th>\n",
       "      <th>Temperature</th>\n",
       "      <th>Humidity</th>\n",
       "      <th>Water_Price</th>\n",
       "      <th>Period_Consumption_Index</th>\n",
       "      <th>Income_Level</th>\n",
       "      <th>Guests</th>\n",
       "      <th>Amenities</th>\n",
       "      <th>Appliance_Usage</th>\n",
       "      <th>Water_Consumption</th>\n",
       "      <th>Date</th>\n",
       "      <th>Hour</th>\n",
       "    </tr>\n",
       "  </thead>\n",
       "  <tbody>\n",
       "    <tr>\n",
       "      <th>0</th>\n",
       "      <td>2002-01-01 00:00:00</td>\n",
       "      <td>1</td>\n",
       "      <td>Studio</td>\n",
       "      <td>15.310000</td>\n",
       "      <td>46.61</td>\n",
       "      <td>1.06</td>\n",
       "      <td>0.970000</td>\n",
       "      <td>Low</td>\n",
       "      <td>0</td>\n",
       "      <td>Swimming Pool</td>\n",
       "      <td>0.0</td>\n",
       "      <td>64.85</td>\n",
       "      <td>2002-01-01</td>\n",
       "      <td>0</td>\n",
       "    </tr>\n",
       "    <tr>\n",
       "      <th>1</th>\n",
       "      <td>2002-01-01 08:00:00</td>\n",
       "      <td>4</td>\n",
       "      <td>NaN</td>\n",
       "      <td>21.010000</td>\n",
       "      <td>66.11</td>\n",
       "      <td>2.98</td>\n",
       "      <td>0.910000</td>\n",
       "      <td>Upper Middle</td>\n",
       "      <td>1</td>\n",
       "      <td>Swimming Pool</td>\n",
       "      <td>1.0</td>\n",
       "      <td>192.50</td>\n",
       "      <td>2002-01-01</td>\n",
       "      <td>8</td>\n",
       "    </tr>\n",
       "    <tr>\n",
       "      <th>2</th>\n",
       "      <td>2002-01-01 16:00:00</td>\n",
       "      <td>2</td>\n",
       "      <td>Cottage</td>\n",
       "      <td>12.860000</td>\n",
       "      <td>60.86</td>\n",
       "      <td>1.44</td>\n",
       "      <td>1.430000</td>\n",
       "      <td>Middle</td>\n",
       "      <td>0</td>\n",
       "      <td>NaN</td>\n",
       "      <td>1.0</td>\n",
       "      <td>116.62</td>\n",
       "      <td>2002-01-01</td>\n",
       "      <td>16</td>\n",
       "    </tr>\n",
       "    <tr>\n",
       "      <th>3</th>\n",
       "      <td>2002-01-02 00:00:00</td>\n",
       "      <td>2</td>\n",
       "      <td>1BHK</td>\n",
       "      <td>20.160000</td>\n",
       "      <td>50.58</td>\n",
       "      <td>1.48</td>\n",
       "      <td>0.910000</td>\n",
       "      <td>Middle</td>\n",
       "      <td>-1</td>\n",
       "      <td>Garden</td>\n",
       "      <td>0.0</td>\n",
       "      <td>76.96</td>\n",
       "      <td>2002-01-02</td>\n",
       "      <td>0</td>\n",
       "    </tr>\n",
       "    <tr>\n",
       "      <th>4</th>\n",
       "      <td>2002-01-02 08:00:00</td>\n",
       "      <td>2</td>\n",
       "      <td>Cottage</td>\n",
       "      <td>16.230000</td>\n",
       "      <td>52.25</td>\n",
       "      <td>1.14</td>\n",
       "      <td>1.110000</td>\n",
       "      <td>Middle</td>\n",
       "      <td>0</td>\n",
       "      <td>Fountain</td>\n",
       "      <td>0.0</td>\n",
       "      <td>104.70</td>\n",
       "      <td>2002-01-02</td>\n",
       "      <td>8</td>\n",
       "    </tr>\n",
       "    <tr>\n",
       "      <th>...</th>\n",
       "      <td>...</td>\n",
       "      <td>...</td>\n",
       "      <td>...</td>\n",
       "      <td>...</td>\n",
       "      <td>...</td>\n",
       "      <td>...</td>\n",
       "      <td>...</td>\n",
       "      <td>...</td>\n",
       "      <td>...</td>\n",
       "      <td>...</td>\n",
       "      <td>...</td>\n",
       "      <td>...</td>\n",
       "      <td>...</td>\n",
       "      <td>...</td>\n",
       "    </tr>\n",
       "    <tr>\n",
       "      <th>13994</th>\n",
       "      <td>2014-10-09 16:00:00</td>\n",
       "      <td>2</td>\n",
       "      <td>1BHK</td>\n",
       "      <td>26.520000</td>\n",
       "      <td>47.19</td>\n",
       "      <td>1.47</td>\n",
       "      <td>2.082106</td>\n",
       "      <td>Low</td>\n",
       "      <td>0</td>\n",
       "      <td>NaN</td>\n",
       "      <td>0.0</td>\n",
       "      <td>111.68</td>\n",
       "      <td>2014-10-09</td>\n",
       "      <td>16</td>\n",
       "    </tr>\n",
       "    <tr>\n",
       "      <th>13995</th>\n",
       "      <td>2014-10-10 00:00:00</td>\n",
       "      <td>2</td>\n",
       "      <td>1BHK</td>\n",
       "      <td>25.610000</td>\n",
       "      <td>61.50</td>\n",
       "      <td>1.70</td>\n",
       "      <td>0.940000</td>\n",
       "      <td>Low</td>\n",
       "      <td>0</td>\n",
       "      <td>NaN</td>\n",
       "      <td>0.0</td>\n",
       "      <td>78.59</td>\n",
       "      <td>2014-10-10</td>\n",
       "      <td>0</td>\n",
       "    </tr>\n",
       "    <tr>\n",
       "      <th>13996</th>\n",
       "      <td>2014-10-10 08:00:00</td>\n",
       "      <td>5</td>\n",
       "      <td>2BHK</td>\n",
       "      <td>13.270000</td>\n",
       "      <td>52.58</td>\n",
       "      <td>1.88</td>\n",
       "      <td>1.030000</td>\n",
       "      <td>Upper Middle</td>\n",
       "      <td>0</td>\n",
       "      <td>Garden</td>\n",
       "      <td>1.0</td>\n",
       "      <td>185.50</td>\n",
       "      <td>2014-10-10</td>\n",
       "      <td>8</td>\n",
       "    </tr>\n",
       "    <tr>\n",
       "      <th>13997</th>\n",
       "      <td>2014-10-10 16:00:00</td>\n",
       "      <td>4</td>\n",
       "      <td>2BHK</td>\n",
       "      <td>22.566559</td>\n",
       "      <td>46.93</td>\n",
       "      <td>1.22</td>\n",
       "      <td>1.100000</td>\n",
       "      <td>Middle</td>\n",
       "      <td>0</td>\n",
       "      <td>NaN</td>\n",
       "      <td>1.0</td>\n",
       "      <td>180.28</td>\n",
       "      <td>2014-10-10</td>\n",
       "      <td>16</td>\n",
       "    </tr>\n",
       "    <tr>\n",
       "      <th>13998</th>\n",
       "      <td>2014-10-11 00:00:00</td>\n",
       "      <td>4</td>\n",
       "      <td>3BHK</td>\n",
       "      <td>11.620000</td>\n",
       "      <td>64.48</td>\n",
       "      <td>2.86</td>\n",
       "      <td>1.120000</td>\n",
       "      <td>Upper Middle</td>\n",
       "      <td>1</td>\n",
       "      <td>Swimming Pool</td>\n",
       "      <td>0.0</td>\n",
       "      <td>212.19</td>\n",
       "      <td>2014-10-11</td>\n",
       "      <td>0</td>\n",
       "    </tr>\n",
       "  </tbody>\n",
       "</table>\n",
       "<p>13158 rows × 14 columns</p>\n",
       "</div>"
      ],
      "text/plain": [
       "                Timestamp  Residents Apartment_Type  Temperature  Humidity  \\\n",
       "0     2002-01-01 00:00:00          1         Studio    15.310000     46.61   \n",
       "1     2002-01-01 08:00:00          4            NaN    21.010000     66.11   \n",
       "2     2002-01-01 16:00:00          2        Cottage    12.860000     60.86   \n",
       "3     2002-01-02 00:00:00          2           1BHK    20.160000     50.58   \n",
       "4     2002-01-02 08:00:00          2        Cottage    16.230000     52.25   \n",
       "...                   ...        ...            ...          ...       ...   \n",
       "13994 2014-10-09 16:00:00          2           1BHK    26.520000     47.19   \n",
       "13995 2014-10-10 00:00:00          2           1BHK    25.610000     61.50   \n",
       "13996 2014-10-10 08:00:00          5           2BHK    13.270000     52.58   \n",
       "13997 2014-10-10 16:00:00          4           2BHK    22.566559     46.93   \n",
       "13998 2014-10-11 00:00:00          4           3BHK    11.620000     64.48   \n",
       "\n",
       "       Water_Price  Period_Consumption_Index  Income_Level  Guests  \\\n",
       "0             1.06                  0.970000           Low       0   \n",
       "1             2.98                  0.910000  Upper Middle       1   \n",
       "2             1.44                  1.430000        Middle       0   \n",
       "3             1.48                  0.910000        Middle      -1   \n",
       "4             1.14                  1.110000        Middle       0   \n",
       "...            ...                       ...           ...     ...   \n",
       "13994         1.47                  2.082106           Low       0   \n",
       "13995         1.70                  0.940000           Low       0   \n",
       "13996         1.88                  1.030000  Upper Middle       0   \n",
       "13997         1.22                  1.100000        Middle       0   \n",
       "13998         2.86                  1.120000  Upper Middle       1   \n",
       "\n",
       "           Amenities  Appliance_Usage  Water_Consumption        Date  Hour  \n",
       "0      Swimming Pool              0.0              64.85  2002-01-01     0  \n",
       "1      Swimming Pool              1.0             192.50  2002-01-01     8  \n",
       "2                NaN              1.0             116.62  2002-01-01    16  \n",
       "3             Garden              0.0              76.96  2002-01-02     0  \n",
       "4           Fountain              0.0             104.70  2002-01-02     8  \n",
       "...              ...              ...                ...         ...   ...  \n",
       "13994            NaN              0.0             111.68  2014-10-09    16  \n",
       "13995            NaN              0.0              78.59  2014-10-10     0  \n",
       "13996         Garden              1.0             185.50  2014-10-10     8  \n",
       "13997            NaN              1.0             180.28  2014-10-10    16  \n",
       "13998  Swimming Pool              0.0             212.19  2014-10-11     0  \n",
       "\n",
       "[13158 rows x 14 columns]"
      ]
     },
     "execution_count": 120,
     "metadata": {},
     "output_type": "execute_result"
    }
   ],
   "source": [
    "unique_levels = (\n",
    "    df[\"Income_Level\"].value_counts()[(df[\"Income_Level\"].value_counts() > 1)].index\n",
    ")\n",
    "df[df[\"Income_Level\"].isin(unique_levels)]"
   ]
  },
  {
   "cell_type": "code",
   "execution_count": 125,
   "metadata": {},
   "outputs": [
    {
     "data": {
      "image/png": "[encoded data removed]",
      "text/plain": [
       "<Figure size 640x480 with 1 Axes>"
      ]
     },
     "metadata": {},
     "output_type": "display_data"
    }
   ],
   "source": [
    "sns.countplot(df[df[\"Income_Level\"].isin(unique_levels)][\"Income_Level\"])\n",
    "plt.xticks(rotation=45)\n",
    "plt.show()"
   ]
  },
  {
   "cell_type": "code",
   "execution_count": 127,
   "metadata": {},
   "outputs": [
    {
     "data": {
      "text/plain": [
       "6.014285714285714"
      ]
     },
     "execution_count": 127,
     "metadata": {},
     "output_type": "execute_result"
    }
   ],
   "source": [
    "(len(df[~df[\"Income_Level\"].isin(unique_levels)]) / len(df)) * 100"
   ]
  },
  {
   "cell_type": "markdown",
   "metadata": {},
   "source": [
    "---\n"
   ]
  },
  {
   "cell_type": "code",
   "execution_count": 79,
   "metadata": {},
   "outputs": [],
   "source": [
    "df_test = pd.read_csv(\"../data/raw/test.csv\")"
   ]
  },
  {
   "cell_type": "code",
   "execution_count": 99,
   "metadata": {},
   "outputs": [
    {
     "data": {
      "application/vnd.microsoft.datawrangler.viewer.v0+json": {
       "columns": [
        {
         "name": "index",
         "rawType": "int64",
         "type": "integer"
        },
        {
         "name": "Timestamp",
         "rawType": "object",
         "type": "string"
        },
        {
         "name": "Residents",
         "rawType": "int64",
         "type": "integer"
        },
        {
         "name": "Apartment_Type",
         "rawType": "object",
         "type": "string"
        },
        {
         "name": "Temperature",
         "rawType": "float64",
         "type": "float"
        },
        {
         "name": "Humidity",
         "rawType": "object",
         "type": "string"
        },
        {
         "name": "Water_Price",
         "rawType": "float64",
         "type": "float"
        },
        {
         "name": "Period_Consumption_Index",
         "rawType": "float64",
         "type": "float"
        },
        {
         "name": "Income_Level",
         "rawType": "object",
         "type": "string"
        },
        {
         "name": "Guests",
         "rawType": "int64",
         "type": "integer"
        },
        {
         "name": "Amenities",
         "rawType": "object",
         "type": "string"
        },
        {
         "name": "Appliance_Usage",
         "rawType": "float64",
         "type": "float"
        }
       ],
       "conversionMethod": "pd.DataFrame",
       "ref": "33e682c3-2e13-432d-b92e-b3384fdc5863",
       "rows": [
        [
         "5407",
         "18/09/2019 00",
         "3",
         "1BHK",
         "14.72",
         "67.93",
         "1.05",
         "-0.0126342257213054",
         "Low",
         "0",
         "Garden",
         null
        ]
       ],
       "shape": {
        "columns": 11,
        "rows": 1
       }
      },
      "text/html": [
       "<div>\n",
       "<style scoped>\n",
       "    .dataframe tbody tr th:only-of-type {\n",
       "        vertical-align: middle;\n",
       "    }\n",
       "\n",
       "    .dataframe tbody tr th {\n",
       "        vertical-align: top;\n",
       "    }\n",
       "\n",
       "    .dataframe thead th {\n",
       "        text-align: right;\n",
       "    }\n",
       "</style>\n",
       "<table border=\"1\" class=\"dataframe\">\n",
       "  <thead>\n",
       "    <tr style=\"text-align: right;\">\n",
       "      <th></th>\n",
       "      <th>Timestamp</th>\n",
       "      <th>Residents</th>\n",
       "      <th>Apartment_Type</th>\n",
       "      <th>Temperature</th>\n",
       "      <th>Humidity</th>\n",
       "      <th>Water_Price</th>\n",
       "      <th>Period_Consumption_Index</th>\n",
       "      <th>Income_Level</th>\n",
       "      <th>Guests</th>\n",
       "      <th>Amenities</th>\n",
       "      <th>Appliance_Usage</th>\n",
       "    </tr>\n",
       "  </thead>\n",
       "  <tbody>\n",
       "    <tr>\n",
       "      <th>5407</th>\n",
       "      <td>18/09/2019 00</td>\n",
       "      <td>3</td>\n",
       "      <td>1BHK</td>\n",
       "      <td>14.72</td>\n",
       "      <td>67.93</td>\n",
       "      <td>1.05</td>\n",
       "      <td>-0.012634</td>\n",
       "      <td>Low</td>\n",
       "      <td>0</td>\n",
       "      <td>Garden</td>\n",
       "      <td>NaN</td>\n",
       "    </tr>\n",
       "  </tbody>\n",
       "</table>\n",
       "</div>"
      ],
      "text/plain": [
       "          Timestamp  Residents Apartment_Type  Temperature Humidity  \\\n",
       "5407  18/09/2019 00          3           1BHK        14.72    67.93   \n",
       "\n",
       "      Water_Price  Period_Consumption_Index Income_Level  Guests Amenities  \\\n",
       "5407         1.05                 -0.012634          Low       0    Garden   \n",
       "\n",
       "      Appliance_Usage  \n",
       "5407              NaN  "
      ]
     },
     "execution_count": 99,
     "metadata": {},
     "output_type": "execute_result"
    }
   ],
   "source": [
    "df_test[df_test[\"Period_Consumption_Index\"] < 0]"
   ]
  },
  {
   "cell_type": "code",
   "execution_count": 31,
   "metadata": {},
   "outputs": [
    {
     "name": "stdout",
     "output_type": "stream",
     "text": [
      "<class 'pandas.core.series.Series'>\n",
      "RangeIndex: 6000 entries, 0 to 5999\n",
      "Series name: Humidity\n",
      "Non-Null Count  Dtype \n",
      "--------------  ----- \n",
      "6000 non-null   object\n",
      "dtypes: object(1)\n",
      "memory usage: 47.0+ KB\n"
     ]
    }
   ],
   "source": [
    "df_test[\"Humidity\"].info()"
   ]
  },
  {
   "cell_type": "code",
   "execution_count": 32,
   "metadata": {},
   "outputs": [
    {
     "data": {
      "text/plain": [
       "3.2333333333333334"
      ]
     },
     "execution_count": 32,
     "metadata": {},
     "output_type": "execute_result"
    }
   ],
   "source": [
    "(\n",
    "    len(df_test[~df_test[\"Humidity\"].str.match(r\"^\\d*\\.?\\d*$\", na=False)])\n",
    "    / len(df_test)\n",
    ") * 100"
   ]
  },
  {
   "cell_type": "code",
   "execution_count": 33,
   "metadata": {},
   "outputs": [
    {
     "data": {
      "application/vnd.microsoft.datawrangler.viewer.v0+json": {
       "columns": [
        {
         "name": "index",
         "rawType": "int64",
         "type": "integer"
        },
        {
         "name": "Timestamp",
         "rawType": "object",
         "type": "string"
        },
        {
         "name": "Residents",
         "rawType": "int64",
         "type": "integer"
        },
        {
         "name": "Apartment_Type",
         "rawType": "object",
         "type": "unknown"
        },
        {
         "name": "Temperature",
         "rawType": "float64",
         "type": "float"
        },
        {
         "name": "Humidity",
         "rawType": "object",
         "type": "string"
        },
        {
         "name": "Water_Price",
         "rawType": "float64",
         "type": "float"
        },
        {
         "name": "Period_Consumption_Index",
         "rawType": "float64",
         "type": "float"
        },
        {
         "name": "Income_Level",
         "rawType": "object",
         "type": "unknown"
        },
        {
         "name": "Guests",
         "rawType": "int64",
         "type": "integer"
        },
        {
         "name": "Amenities",
         "rawType": "object",
         "type": "unknown"
        },
        {
         "name": "Appliance_Usage",
         "rawType": "float64",
         "type": "float"
        }
       ],
       "conversionMethod": "pd.DataFrame",
       "ref": "86394c34-0625-4902-a60a-0b1d17675df2",
       "rows": [
        [
         "63",
         "01/11/2014 16",
         "2",
         "Studio",
         "11.43",
         "BbFaV",
         "1.46",
         "1.44",
         "Low",
         "0",
         "Jacuzzi",
         "0.0"
        ],
        [
         "97",
         "13/11/2014 00",
         "3",
         "2BHK",
         "24.39",
         "&U6XK",
         "1.05",
         "1.18",
         "Middle",
         "0",
         null,
         "0.0"
        ],
        [
         "103",
         "15/11/2014 00",
         "3",
         "2BHK",
         "25.07",
         "^.)0\"",
         "1.72",
         "1.48",
         "Upper Middle",
         "0",
         "Fountain",
         "0.0"
        ],
        [
         "110",
         "17/11/2014 08",
         "4",
         "Detached",
         "19.41",
         "'sEq/",
         "1.58",
         "1.22",
         "Rich",
         "0",
         "Swimming Pool",
         "0.0"
        ],
        [
         "160",
         "04/12/2014 00",
         "3",
         "Bungalow",
         "11.88",
         "=^7uV",
         "2.95",
         "1.25",
         "Upper Middle",
         "0",
         "Garden",
         "1.0"
        ],
        [
         "171",
         "07/12/2014 16",
         "5",
         "2BHK",
         "20.96",
         "SUK;{",
         "1.55",
         "1.46",
         "Middle",
         "1",
         "Jacuzzi",
         "0.0"
        ],
        [
         "187",
         "13/12/2014 00",
         "5",
         "3BHK",
         "26.7",
         "{W:}C",
         "1.78",
         "1.12",
         "Upper Middle",
         "1",
         "Fountain",
         "0.0"
        ],
        [
         "253",
         "04/01/2015 00",
         "5",
         "2BHK",
         "15.41",
         "-gttt",
         "1.32",
         "0.99",
         "Middle",
         "1",
         null,
         "0.0"
        ],
        [
         "339",
         "01/02/2015 16",
         "4",
         "2BHK",
         "18.21",
         "BmC@7",
         "2.36",
         "1.12",
         "Upper Middle",
         "0",
         "Fountain",
         "0.0"
        ],
        [
         "357",
         "07/02/2015 16",
         "5",
         "2BHK",
         "13.69",
         "Sq;qa",
         "1.08",
         "0.96",
         "Middle",
         "0",
         "Jacuzzi",
         "0.0"
        ],
        [
         "386",
         "17/02/2015 08",
         "5",
         "2BHK",
         "19.24",
         "l^Xog",
         "1.37",
         "0.8",
         "Middle",
         "0",
         "Fountain",
         "1.0"
        ],
        [
         "405",
         "23/02/2015 16",
         "4",
         "2BHK",
         "34.13",
         "aM_5z",
         "1.2",
         "1.14",
         "Middle",
         "0",
         null,
         "0.0"
        ],
        [
         "433",
         "05/03/2015 00",
         "2",
         "1BHK",
         "27.7",
         "f:>QD",
         "1.43",
         "0.2882013083367564",
         "Middle",
         "0",
         null,
         "0.0"
        ],
        [
         "471",
         "17/03/2015 16",
         "4",
         "2BHK",
         "33.37",
         "GP?w|",
         "1.97",
         "1.41",
         "Upper Middle",
         "0",
         null,
         "0.0"
        ],
        [
         "477",
         "19/03/2015 16",
         "3",
         "Cottage",
         "22.2",
         "S{_cG",
         "1.6",
         "0.83",
         "Middle",
         "1",
         "Garden",
         "0.0"
        ],
        [
         "478",
         "20/03/2015 00",
         "2",
         "Studio",
         "13.37",
         "oNVbW",
         "1.69",
         "1.36",
         "Low",
         "1",
         "Garden",
         "0.0"
        ],
        [
         "508",
         "30/03/2015 00",
         "3",
         "1BHK",
         "20.04",
         "r+X|p",
         "1.34",
         "1.38",
         null,
         "0",
         "Garden",
         "0.0"
        ],
        [
         "541",
         "10/04/2015 00",
         "2",
         "Cottage",
         "14.3",
         "7fbl9",
         "1.62",
         "1.4",
         "Middle",
         "1",
         "Jacuzzi",
         "0.0"
        ],
        [
         "550",
         "13/04/2015 00",
         "3",
         "Cottage",
         "32.48",
         "k^},9",
         "-77.0",
         "1.16",
         "?n\\3L",
         "0",
         null,
         "0.0"
        ],
        [
         "563",
         "17/04/2015 08",
         "3",
         "Bungalow",
         "17.01",
         "j7o{S",
         "1.99",
         "1.42",
         "Upper Middle",
         "0",
         "Swimming Pool",
         "0.0"
        ],
        [
         "581",
         "23/04/2015 08",
         "2",
         "Cottage",
         "19.4",
         "4,5&)",
         "1.18",
         "1.12",
         "Middle",
         "0",
         null,
         "0.0"
        ],
        [
         "589",
         "26/04/2015 00",
         "2",
         "Cottage",
         "17.66",
         "%)c8J",
         "1.4",
         "1.0",
         "Middle",
         "1",
         "Garden",
         "0.0"
        ],
        [
         "634",
         "11/05/2015 00",
         "2",
         "Cottage",
         "10.57",
         "`GI{M",
         "1.03",
         "1.29",
         "Middle",
         "0",
         "Swimming Pool",
         "0.0"
        ],
        [
         "657",
         "18/05/2015 16",
         "5",
         "2BHK",
         "17.94",
         "7I^qT",
         "1.37",
         "1.39",
         "Middle",
         "1",
         "Fountain",
         "1.0"
        ],
        [
         "671",
         "23/05/2015 08",
         "5",
         "2BHK",
         "30.05",
         "`usYU",
         "1.31",
         "0.9",
         "Middle",
         "0",
         "Garden",
         "0.0"
        ],
        [
         "761",
         "22/06/2015 08",
         "2",
         "1BHK",
         "13.08",
         "nJ}G~",
         "1.1",
         "1.49",
         "Middle",
         "0",
         null,
         "1.0"
        ],
        [
         "764",
         "23/06/2015 08",
         "3",
         "Cottage",
         "32.73",
         "iF^^B",
         "1.07",
         "1.03",
         "Middle",
         "1",
         null,
         "1.0"
        ],
        [
         "828",
         "14/07/2015 16",
         "3",
         "3BHK",
         "28.98",
         "UI0&_",
         "2.5",
         "1.29",
         "Rich",
         "0",
         null,
         "0.0"
        ],
        [
         "841",
         "19/07/2015 00",
         "5",
         "Bungalow",
         "27.12",
         "~#Q4_",
         "1.68",
         "1.42",
         "Upper Middle",
         "0",
         "Swimming Pool",
         "0.0"
        ],
        [
         "846",
         "20/07/2015 16",
         "-99",
         "Studio",
         "17.62",
         "\\CTkb",
         "1.77",
         "1.13",
         "Low",
         "0",
         null,
         "0.0"
        ],
        [
         "891",
         "04/08/2015 16",
         "2",
         "Studio",
         "25.24",
         "hB?s4",
         "1.24",
         "1.49",
         "Low",
         "1",
         null,
         "0.0"
        ],
        [
         "904",
         "09/08/2015 00",
         "5",
         "Bungalow",
         "27.53",
         "mNsP|",
         "2.06",
         "0.92",
         "Upper Middle",
         "1",
         null,
         "0.0"
        ],
        [
         "944",
         "22/08/2015 08",
         "2",
         "Cottage",
         "11.48",
         "&7.1T",
         "1.55",
         "1.32",
         "Middle",
         "0",
         "Swimming Pool",
         "0.0"
        ],
        [
         "960",
         "27/08/2015 16",
         "5",
         "3BHK",
         "10.47",
         "9^`I=",
         "1.57",
         "1.08",
         "Rich",
         "0",
         null,
         "0.0"
        ],
        [
         "974",
         "01/09/2015 08",
         "4",
         "2BHK",
         "24.67",
         "Q%_S7",
         "1.16",
         "1.05",
         "e4~3\"",
         "0",
         null,
         "0.0"
        ],
        [
         "988",
         "06/09/2015 00",
         "3",
         "Cottage",
         "21.34",
         "<i~|Q",
         "1.29",
         "1.09",
         "Middle",
         "0",
         "Swimming Pool",
         "0.0"
        ],
        [
         "993",
         "07/09/2015 16",
         "5",
         "2BHK",
         "13.2",
         "~~wmx",
         "2.93",
         "1.39",
         "Upper Middle",
         "0",
         null,
         "0.0"
        ],
        [
         "1109",
         "16/10/2015 08",
         "5",
         "3BHK",
         "11.2",
         "n'XH.",
         "1.72",
         "1.01",
         "Upper Middle",
         "0",
         "Garden",
         "0.0"
        ],
        [
         "1184",
         "10/11/2015 08",
         "4",
         "3BHK",
         "23.94",
         "UcwAn",
         "1.67",
         "1.31",
         "Upper Middle",
         "0",
         "Swimming Pool",
         "1.0"
        ],
        [
         "1192",
         "13/11/2015 00",
         "5",
         "Bungalow",
         "12.66",
         "!&Sx|",
         "1.92",
         "0.82",
         "Rich",
         "1",
         "Swimming Pool",
         "0.0"
        ],
        [
         "1214",
         "20/11/2015 08",
         "3",
         "2BHK",
         "25.47",
         "}Cf<Q",
         "1.5",
         "0.84",
         "Middle",
         "0",
         null,
         "0.0"
        ],
        [
         "1250",
         "02/12/2015 08",
         "3",
         "1BHK",
         "14.66",
         "/aT^l",
         "1.0",
         "1.25",
         "Middle",
         "0",
         "Garden",
         "1.0"
        ],
        [
         "1262",
         "06/12/2015 08",
         "4",
         "2BHK",
         "10.39",
         "W*uN9",
         "1.74",
         "0.8",
         "Middle",
         "0",
         "Swimming Pool",
         "1.0"
        ],
        [
         "1267",
         "08/12/2015 00",
         "4",
         "3BHK",
         "21.85",
         "^j\"b.",
         "2.55",
         "1.26",
         "Upper Middle",
         "1",
         null,
         "1.0"
        ],
        [
         "1269",
         "08/12/2015 16",
         "3",
         "2BHK",
         "17.46",
         "Z+z0p",
         "1.14",
         "0.89",
         "Middle",
         "1",
         "Garden",
         "0.0"
        ],
        [
         "1296",
         "17/12/2015 16",
         "3",
         "1BHK",
         "34.65",
         "D([]1",
         "1.35",
         "1.14",
         "Middle",
         "0",
         "Fountain",
         "1.0"
        ],
        [
         "1304",
         "20/12/2015 08",
         "5",
         "2BHK",
         "22.71",
         "gS|&u",
         "-22.0",
         "1.12",
         "Upper Middle",
         "0",
         "Fountain",
         "0.0"
        ],
        [
         "1315",
         "24/12/2015 00",
         "1",
         "Studio",
         "33.04",
         "SsvP(",
         "1.38",
         "1.36",
         "Low",
         "0",
         null,
         "0.0"
        ],
        [
         "1336",
         "31/12/2015 00",
         "2",
         "1BHK",
         "19.94",
         ",#[p8",
         "1.0",
         "1.42",
         "Low",
         "0",
         null,
         "0.0"
        ],
        [
         "1355",
         "06/01/2016 08",
         "4",
         "Bungalow",
         "19.63",
         "w\"'hs",
         "2.89",
         "1.11",
         "Upper Middle",
         "0",
         null,
         null
        ]
       ],
       "shape": {
        "columns": 11,
        "rows": 194
       }
      },
      "text/html": [
       "<div>\n",
       "<style scoped>\n",
       "    .dataframe tbody tr th:only-of-type {\n",
       "        vertical-align: middle;\n",
       "    }\n",
       "\n",
       "    .dataframe tbody tr th {\n",
       "        vertical-align: top;\n",
       "    }\n",
       "\n",
       "    .dataframe thead th {\n",
       "        text-align: right;\n",
       "    }\n",
       "</style>\n",
       "<table border=\"1\" class=\"dataframe\">\n",
       "  <thead>\n",
       "    <tr style=\"text-align: right;\">\n",
       "      <th></th>\n",
       "      <th>Timestamp</th>\n",
       "      <th>Residents</th>\n",
       "      <th>Apartment_Type</th>\n",
       "      <th>Temperature</th>\n",
       "      <th>Humidity</th>\n",
       "      <th>Water_Price</th>\n",
       "      <th>Period_Consumption_Index</th>\n",
       "      <th>Income_Level</th>\n",
       "      <th>Guests</th>\n",
       "      <th>Amenities</th>\n",
       "      <th>Appliance_Usage</th>\n",
       "    </tr>\n",
       "  </thead>\n",
       "  <tbody>\n",
       "    <tr>\n",
       "      <th>63</th>\n",
       "      <td>01/11/2014 16</td>\n",
       "      <td>2</td>\n",
       "      <td>Studio</td>\n",
       "      <td>11.43</td>\n",
       "      <td>BbFaV</td>\n",
       "      <td>1.46</td>\n",
       "      <td>1.44</td>\n",
       "      <td>Low</td>\n",
       "      <td>0</td>\n",
       "      <td>Jacuzzi</td>\n",
       "      <td>0.0</td>\n",
       "    </tr>\n",
       "    <tr>\n",
       "      <th>97</th>\n",
       "      <td>13/11/2014 00</td>\n",
       "      <td>3</td>\n",
       "      <td>2BHK</td>\n",
       "      <td>24.39</td>\n",
       "      <td>&amp;U6XK</td>\n",
       "      <td>1.05</td>\n",
       "      <td>1.18</td>\n",
       "      <td>Middle</td>\n",
       "      <td>0</td>\n",
       "      <td>NaN</td>\n",
       "      <td>0.0</td>\n",
       "    </tr>\n",
       "    <tr>\n",
       "      <th>103</th>\n",
       "      <td>15/11/2014 00</td>\n",
       "      <td>3</td>\n",
       "      <td>2BHK</td>\n",
       "      <td>25.07</td>\n",
       "      <td>^.)0\"</td>\n",
       "      <td>1.72</td>\n",
       "      <td>1.48</td>\n",
       "      <td>Upper Middle</td>\n",
       "      <td>0</td>\n",
       "      <td>Fountain</td>\n",
       "      <td>0.0</td>\n",
       "    </tr>\n",
       "    <tr>\n",
       "      <th>110</th>\n",
       "      <td>17/11/2014 08</td>\n",
       "      <td>4</td>\n",
       "      <td>Detached</td>\n",
       "      <td>19.41</td>\n",
       "      <td>'sEq/</td>\n",
       "      <td>1.58</td>\n",
       "      <td>1.22</td>\n",
       "      <td>Rich</td>\n",
       "      <td>0</td>\n",
       "      <td>Swimming Pool</td>\n",
       "      <td>0.0</td>\n",
       "    </tr>\n",
       "    <tr>\n",
       "      <th>160</th>\n",
       "      <td>04/12/2014 00</td>\n",
       "      <td>3</td>\n",
       "      <td>Bungalow</td>\n",
       "      <td>11.88</td>\n",
       "      <td>=^7uV</td>\n",
       "      <td>2.95</td>\n",
       "      <td>1.25</td>\n",
       "      <td>Upper Middle</td>\n",
       "      <td>0</td>\n",
       "      <td>Garden</td>\n",
       "      <td>1.0</td>\n",
       "    </tr>\n",
       "    <tr>\n",
       "      <th>...</th>\n",
       "      <td>...</td>\n",
       "      <td>...</td>\n",
       "      <td>...</td>\n",
       "      <td>...</td>\n",
       "      <td>...</td>\n",
       "      <td>...</td>\n",
       "      <td>...</td>\n",
       "      <td>...</td>\n",
       "      <td>...</td>\n",
       "      <td>...</td>\n",
       "      <td>...</td>\n",
       "    </tr>\n",
       "    <tr>\n",
       "      <th>5649</th>\n",
       "      <td>07/12/2019 16</td>\n",
       "      <td>4</td>\n",
       "      <td>Detached</td>\n",
       "      <td>34.98</td>\n",
       "      <td>RivbR</td>\n",
       "      <td>2.77</td>\n",
       "      <td>1.14</td>\n",
       "      <td>Rich</td>\n",
       "      <td>1</td>\n",
       "      <td>Jacuzzi</td>\n",
       "      <td>0.0</td>\n",
       "    </tr>\n",
       "    <tr>\n",
       "      <th>5775</th>\n",
       "      <td>18/01/2020 16</td>\n",
       "      <td>3</td>\n",
       "      <td>3BHK</td>\n",
       "      <td>26.07</td>\n",
       "      <td>h29{-</td>\n",
       "      <td>2.41</td>\n",
       "      <td>0.81</td>\n",
       "      <td>Upper Middle</td>\n",
       "      <td>1</td>\n",
       "      <td>NaN</td>\n",
       "      <td>0.0</td>\n",
       "    </tr>\n",
       "    <tr>\n",
       "      <th>5816</th>\n",
       "      <td>01/02/2020 08</td>\n",
       "      <td>3</td>\n",
       "      <td>2BHK</td>\n",
       "      <td>16.71</td>\n",
       "      <td>[#9Y{</td>\n",
       "      <td>1.14</td>\n",
       "      <td>1.22</td>\n",
       "      <td>Middle</td>\n",
       "      <td>0</td>\n",
       "      <td>NaN</td>\n",
       "      <td>1.0</td>\n",
       "    </tr>\n",
       "    <tr>\n",
       "      <th>5837</th>\n",
       "      <td>08/02/2020 08</td>\n",
       "      <td>2</td>\n",
       "      <td>1BHK</td>\n",
       "      <td>12.73</td>\n",
       "      <td>6\\3;j</td>\n",
       "      <td>1.61</td>\n",
       "      <td>0.86</td>\n",
       "      <td>Low</td>\n",
       "      <td>1</td>\n",
       "      <td>Garden</td>\n",
       "      <td>1.0</td>\n",
       "    </tr>\n",
       "    <tr>\n",
       "      <th>5933</th>\n",
       "      <td>11/03/2020 08</td>\n",
       "      <td>4</td>\n",
       "      <td>Bungalow</td>\n",
       "      <td>30.44</td>\n",
       "      <td>C=4'P</td>\n",
       "      <td>2.69</td>\n",
       "      <td>0.97</td>\n",
       "      <td>Upper Middle</td>\n",
       "      <td>0</td>\n",
       "      <td>Garden</td>\n",
       "      <td>0.0</td>\n",
       "    </tr>\n",
       "  </tbody>\n",
       "</table>\n",
       "<p>194 rows × 11 columns</p>\n",
       "</div>"
      ],
      "text/plain": [
       "          Timestamp  Residents Apartment_Type  Temperature Humidity  \\\n",
       "63    01/11/2014 16          2         Studio        11.43    BbFaV   \n",
       "97    13/11/2014 00          3           2BHK        24.39    &U6XK   \n",
       "103   15/11/2014 00          3           2BHK        25.07    ^.)0\"   \n",
       "110   17/11/2014 08          4       Detached        19.41    'sEq/   \n",
       "160   04/12/2014 00          3       Bungalow        11.88    =^7uV   \n",
       "...             ...        ...            ...          ...      ...   \n",
       "5649  07/12/2019 16          4       Detached        34.98    RivbR   \n",
       "5775  18/01/2020 16          3           3BHK        26.07    h29{-   \n",
       "5816  01/02/2020 08          3           2BHK        16.71    [#9Y{   \n",
       "5837  08/02/2020 08          2           1BHK        12.73    6\\3;j   \n",
       "5933  11/03/2020 08          4       Bungalow        30.44    C=4'P   \n",
       "\n",
       "      Water_Price  Period_Consumption_Index  Income_Level  Guests  \\\n",
       "63           1.46                      1.44           Low       0   \n",
       "97           1.05                      1.18        Middle       0   \n",
       "103          1.72                      1.48  Upper Middle       0   \n",
       "110          1.58                      1.22          Rich       0   \n",
       "160          2.95                      1.25  Upper Middle       0   \n",
       "...           ...                       ...           ...     ...   \n",
       "5649         2.77                      1.14          Rich       1   \n",
       "5775         2.41                      0.81  Upper Middle       1   \n",
       "5816         1.14                      1.22        Middle       0   \n",
       "5837         1.61                      0.86           Low       1   \n",
       "5933         2.69                      0.97  Upper Middle       0   \n",
       "\n",
       "          Amenities  Appliance_Usage  \n",
       "63          Jacuzzi              0.0  \n",
       "97              NaN              0.0  \n",
       "103        Fountain              0.0  \n",
       "110   Swimming Pool              0.0  \n",
       "160          Garden              1.0  \n",
       "...             ...              ...  \n",
       "5649        Jacuzzi              0.0  \n",
       "5775            NaN              0.0  \n",
       "5816            NaN              1.0  \n",
       "5837         Garden              1.0  \n",
       "5933         Garden              0.0  \n",
       "\n",
       "[194 rows x 11 columns]"
      ]
     },
     "execution_count": 33,
     "metadata": {},
     "output_type": "execute_result"
    }
   ],
   "source": [
    "df_test[~df_test[\"Humidity\"].str.match(r\"^\\d*\\.?\\d*$\", na=False)]"
   ]
  },
  {
   "cell_type": "code",
   "execution_count": 34,
   "metadata": {},
   "outputs": [],
   "source": [
    "df_test.loc[~df_test[\"Humidity\"].str.match(r\"^\\d*\\.?\\d*$\", na=False), \"Humidity\"] = (\n",
    "    np.nan\n",
    ")"
   ]
  },
  {
   "cell_type": "code",
   "execution_count": 35,
   "metadata": {},
   "outputs": [],
   "source": [
    "df_test[\"Humidity\"] = df_test[\"Humidity\"].astype(\"float64\")"
   ]
  },
  {
   "cell_type": "code",
   "execution_count": 36,
   "metadata": {},
   "outputs": [
    {
     "name": "stdout",
     "output_type": "stream",
     "text": [
      "<class 'pandas.core.frame.DataFrame'>\n",
      "RangeIndex: 6000 entries, 0 to 5999\n",
      "Data columns (total 11 columns):\n",
      " #   Column                    Non-Null Count  Dtype  \n",
      "---  ------                    --------------  -----  \n",
      " 0   Timestamp                 6000 non-null   object \n",
      " 1   Residents                 6000 non-null   int64  \n",
      " 2   Apartment_Type            5834 non-null   object \n",
      " 3   Temperature               5850 non-null   float64\n",
      " 4   Humidity                  5806 non-null   float64\n",
      " 5   Water_Price               6000 non-null   float64\n",
      " 6   Period_Consumption_Index  6000 non-null   float64\n",
      " 7   Income_Level              5835 non-null   object \n",
      " 8   Guests                    6000 non-null   int64  \n",
      " 9   Amenities                 3487 non-null   object \n",
      " 10  Appliance_Usage           5823 non-null   float64\n",
      "dtypes: float64(5), int64(2), object(4)\n",
      "memory usage: 515.8+ KB\n"
     ]
    }
   ],
   "source": [
    "df_test.info()"
   ]
  },
  {
   "cell_type": "code",
   "execution_count": 37,
   "metadata": {},
   "outputs": [
    {
     "data": {
      "text/plain": [
       "count    5806.000000\n",
       "mean       53.215663\n",
       "std        10.328575\n",
       "min        17.370000\n",
       "25%        46.275000\n",
       "50%        53.325000\n",
       "75%        60.020000\n",
       "max        90.000000\n",
       "Name: Humidity, dtype: float64"
      ]
     },
     "execution_count": 37,
     "metadata": {},
     "output_type": "execute_result"
    }
   ],
   "source": [
    "df_test[\"Humidity\"].describe()"
   ]
  },
  {
   "cell_type": "code",
   "execution_count": 85,
   "metadata": {},
   "outputs": [
    {
     "data": {
      "text/plain": [
       "count    6000.000000\n",
       "mean        0.579927\n",
       "std         9.081304\n",
       "min       -99.000000\n",
       "25%         1.320000\n",
       "50%         1.630000\n",
       "75%         2.120000\n",
       "max         3.000000\n",
       "Name: Water_Price, dtype: float64"
      ]
     },
     "execution_count": 85,
     "metadata": {},
     "output_type": "execute_result"
    }
   ],
   "source": [
    "df_test[\"Water_Price\"].describe()"
   ]
  },
  {
   "cell_type": "code",
   "execution_count": 86,
   "metadata": {},
   "outputs": [
    {
     "data": {
      "application/vnd.microsoft.datawrangler.viewer.v0+json": {
       "columns": [
        {
         "name": "index",
         "rawType": "int64",
         "type": "integer"
        },
        {
         "name": "Timestamp",
         "rawType": "object",
         "type": "string"
        },
        {
         "name": "Residents",
         "rawType": "int64",
         "type": "integer"
        },
        {
         "name": "Apartment_Type",
         "rawType": "object",
         "type": "unknown"
        },
        {
         "name": "Temperature",
         "rawType": "float64",
         "type": "float"
        },
        {
         "name": "Humidity",
         "rawType": "object",
         "type": "string"
        },
        {
         "name": "Water_Price",
         "rawType": "float64",
         "type": "float"
        },
        {
         "name": "Period_Consumption_Index",
         "rawType": "float64",
         "type": "float"
        },
        {
         "name": "Income_Level",
         "rawType": "object",
         "type": "unknown"
        },
        {
         "name": "Guests",
         "rawType": "int64",
         "type": "integer"
        },
        {
         "name": "Amenities",
         "rawType": "object",
         "type": "unknown"
        },
        {
         "name": "Appliance_Usage",
         "rawType": "float64",
         "type": "float"
        }
       ],
       "conversionMethod": "pd.DataFrame",
       "ref": "c905b08d-68b6-4344-bcd9-8fe46710562a",
       "rows": [
        [
         "30",
         "21/10/2014 16",
         "2",
         "1BHK",
         "18.49",
         "80.0",
         "-88.0",
         "1.38",
         "Low",
         "0",
         null,
         "0.0"
        ],
        [
         "158",
         "03/12/2014 08",
         "3",
         "Cottage",
         "15.7",
         "54.69",
         "-44.0",
         "1.22",
         "Middle",
         "0",
         null,
         "0.0"
        ],
        [
         "277",
         "12/01/2015 00",
         "3",
         "1BHK",
         "25.55",
         "50.33",
         "-11.0",
         "1.07",
         "Middle",
         "0",
         null,
         null
        ],
        [
         "364",
         "10/02/2015 00",
         "4",
         "2BHK",
         "31.42",
         "50.89",
         "-88.0",
         "1.16",
         "Upper Middle",
         "1",
         null,
         "0.0"
        ],
        [
         "450",
         "10/03/2015 16",
         "5",
         "2BHK",
         "21.82",
         "55.81",
         "-22.0",
         "1.46",
         "Upper Middle",
         "0",
         "Fountain",
         "0.0"
        ],
        [
         "457",
         "13/03/2015 00",
         "3",
         "Cottage",
         "12.09",
         "61.33",
         "-66.0",
         "0.97",
         "Middle",
         "1",
         "Swimming Pool",
         "0.0"
        ],
        [
         "488",
         "23/03/2015 08",
         "2",
         "Cottage",
         "10.95",
         "56.77",
         "-44.0",
         "1.29",
         "Middle",
         "1",
         null,
         "0.0"
        ],
        [
         "535",
         "08/04/2015 00",
         "2",
         "Studio",
         "19.47",
         "53.44",
         "-44.0",
         "1.33",
         "Low",
         "0",
         null,
         "0.0"
        ],
        [
         "550",
         "13/04/2015 00",
         "3",
         "Cottage",
         "32.48",
         "k^},9",
         "-77.0",
         "1.16",
         "?n\\3L",
         "0",
         null,
         "0.0"
        ],
        [
         "556",
         "15/04/2015 00",
         "2",
         "1BHK",
         "11.81",
         "48.74",
         "-44.0",
         "1.12",
         "Middle",
         "0",
         "Garden",
         "1.0"
        ],
        [
         "680",
         "26/05/2015 08",
         "-88",
         null,
         "32.46",
         "36.8",
         "-77.0",
         "1.23",
         "Rich",
         "0",
         "Fountain",
         "0.0"
        ],
        [
         "692",
         "30/05/2015 08",
         "5",
         "3BHK",
         "31.29",
         "52.89",
         "-99.0",
         "1.48",
         "Rich",
         "0",
         null,
         "1.0"
        ],
        [
         "705",
         "03/06/2015 16",
         "3",
         "Cottage",
         "33.79",
         "36.03",
         "-66.0",
         "1.2",
         "Middle",
         "0",
         null,
         "1.0"
        ],
        [
         "736",
         "14/06/2015 00",
         "5",
         "2BHK",
         "33.95",
         "59.3",
         "-55.0",
         "0.87",
         "Middle",
         "0",
         "Fountain",
         "0.0"
        ],
        [
         "853",
         "23/07/2015 00",
         "2",
         null,
         "32.57",
         "71.13",
         "-44.0",
         "1.08",
         "Middle",
         "1",
         null,
         "0.0"
        ],
        [
         "939",
         "20/08/2015 16",
         "5",
         "3BHK",
         "15.29",
         "45.35",
         "-22.0",
         "0.9",
         "Upper Middle",
         "1",
         "Garden",
         "1.0"
        ],
        [
         "965",
         "29/08/2015 08",
         "5",
         "3BHK",
         "30.14",
         "49.19",
         "-88.0",
         "0.96",
         "Rich",
         "0",
         null,
         "0.0"
        ],
        [
         "1025",
         "18/09/2015 08",
         "5",
         "Bungalow",
         "22.76",
         "52.51",
         "-33.0",
         "1.41",
         "Rich",
         "0",
         "Swimming Pool",
         "0.0"
        ],
        [
         "1033",
         "21/09/2015 00",
         "4",
         "Detached",
         "15.15",
         "64.54",
         "-55.0",
         "0.96",
         "Rich",
         "0",
         null,
         "0.0"
        ],
        [
         "1073",
         "04/10/2015 08",
         "5",
         "2BHK",
         "14.02",
         "47.02",
         "-88.0",
         "1.33",
         "Middle",
         "0",
         "Garden",
         "0.0"
        ],
        [
         "1132",
         "24/10/2015 00",
         "2",
         "Cottage",
         "19.38",
         "46.04",
         "-22.0",
         "1.34",
         "Middle",
         "0",
         null,
         "0.0"
        ],
        [
         "1137",
         "25/10/2015 16",
         "2",
         "1BHK",
         "11.19",
         "39.28",
         "-88.0",
         "1.03",
         "|b!Q$",
         "0",
         null,
         "0.0"
        ],
        [
         "1228",
         "25/11/2015 00",
         "4",
         "3BHK",
         "27.77",
         "34.02",
         "-22.0",
         "1.03",
         "Upper Middle",
         "0",
         "Swimming Pool",
         "0.0"
        ],
        [
         "1236",
         "27/11/2015 16",
         "3",
         "1BHK",
         "11.73",
         "63.49",
         "-33.0",
         "0.93",
         "Middle",
         "0",
         "Garden",
         "0.0"
        ],
        [
         "1274",
         "10/12/2015 08",
         "3",
         "3BHK",
         "11.19",
         "48.97",
         "-66.0",
         "1.45",
         null,
         "1",
         null,
         "0.0"
        ],
        [
         "1300",
         "19/12/2015 00",
         "5",
         "Bungalow",
         "18.47",
         "46.45",
         "-99.0",
         "0.82",
         "Rich",
         "1",
         "Jacuzzi",
         "0.0"
        ],
        [
         "1304",
         "20/12/2015 08",
         "5",
         "2BHK",
         "22.71",
         "gS|&u",
         "-22.0",
         "1.12",
         "Upper Middle",
         "0",
         "Fountain",
         "0.0"
        ],
        [
         "1324",
         "27/12/2015 00",
         "4",
         "3BHK",
         "14.18",
         "54.29",
         "-99.0",
         "1.07",
         "Upper Middle",
         "0",
         null,
         "0.0"
        ],
        [
         "1326",
         "27/12/2015 16",
         "2",
         "1BHK",
         "33.04",
         "59.93",
         "-11.0",
         "0.97",
         "Low",
         "0",
         "Garden",
         "0.0"
        ],
        [
         "1345",
         "03/01/2016 00",
         "5",
         "Bungalow",
         "31.2",
         "56.81",
         "-99.0",
         "0.86",
         "Upper Middle",
         "0",
         "Garden",
         "0.0"
        ],
        [
         "1367",
         "10/01/2016 08",
         "2",
         "1BHK",
         "31.23",
         "46.27",
         "-11.0",
         "1.49",
         "Middle",
         "0",
         null,
         "0.0"
        ],
        [
         "1388",
         "17/01/2016 08",
         "2",
         "1BHK",
         "10.5",
         "46.13",
         "-77.0",
         "1.16",
         "Middle",
         "0",
         null,
         "0.0"
        ],
        [
         "1435",
         "02/02/2016 00",
         "5",
         "2BHK",
         "26.4",
         "48.31",
         "-11.0",
         "1.38",
         "Middle",
         "0",
         null,
         "0.0"
        ],
        [
         "1446",
         "05/02/2016 16",
         "2",
         "Cottage",
         "30.75",
         "54.2",
         "-33.0",
         "1.47",
         "Middle",
         "0",
         null,
         "1.0"
        ],
        [
         "1453",
         "08/02/2016 00",
         "2",
         "Cottage",
         "19.37",
         "57.4",
         "-33.0",
         "0.86",
         "Middle",
         "0",
         "Jacuzzi",
         "0.0"
        ],
        [
         "1531",
         "05/03/2016 00",
         "5",
         null,
         "10.64",
         "64.94",
         "-44.0",
         "0.95",
         "Upper Middle",
         "0",
         null,
         "1.0"
        ],
        [
         "1595",
         "26/03/2016 08",
         "3",
         "2BHK",
         "30.75",
         "51.12",
         "-99.0",
         "1.11",
         "Middle",
         "0",
         null,
         "0.0"
        ],
        [
         "1645",
         "12/04/2016 00",
         "3",
         "2BHK",
         "12.24",
         "59.53",
         "-22.0",
         "0.86",
         "Upper Middle",
         "0",
         "Garden",
         null
        ],
        [
         "1680",
         "23/04/2016 16",
         "3",
         "Bungalow",
         "21.3",
         "47.12",
         "-11.0",
         "0.91",
         "Upper Middle",
         "1",
         null,
         "0.0"
        ],
        [
         "1751",
         "17/05/2016 08",
         "3",
         "1BHK",
         "29.39",
         "70.15",
         "-55.0",
         "1.15",
         "Low",
         "0",
         null,
         "1.0"
        ],
        [
         "1849",
         "19/06/2016 00",
         "2",
         "Cottage",
         "27.21",
         "36.91",
         "-99.0",
         "1.9357179860244484",
         "Middle",
         "0",
         "Garden",
         "0.0"
        ],
        [
         "1992",
         "05/08/2016 16",
         "3",
         "Bungalow",
         "13.85",
         "59.53",
         "-55.0",
         "0.86",
         "Upper Middle",
         "0",
         null,
         "0.0"
        ],
        [
         "2030",
         "18/08/2016 08",
         "-22",
         "1BHK",
         "10.46",
         "65.48",
         "-11.0",
         "0.87",
         "Low",
         "1",
         "Garden",
         "0.0"
        ],
        [
         "2105",
         "12/09/2016 08",
         "3",
         "Cottage",
         "13.31",
         "50.53",
         "-22.0",
         "0.97",
         "Middle",
         "0",
         "Garden",
         "0.0"
        ],
        [
         "2210",
         "17/10/2016 08",
         "5",
         "2BHK",
         "32.17",
         "41.1",
         "-44.0",
         "1.0",
         "LlUBT",
         "0",
         null,
         "0.0"
        ],
        [
         "2262",
         "03/11/2016 16",
         "2",
         "1BHK",
         "18.54",
         "69.24",
         "-66.0",
         "1.24",
         "Low",
         "0",
         "Garden",
         "0.0"
        ],
        [
         "2317",
         "22/11/2016 00",
         "3",
         "Cottage",
         "12.93",
         "66.63",
         "-55.0",
         "0.84",
         "Middle",
         "0",
         "Garden",
         "0.0"
        ],
        [
         "2413",
         "24/12/2016 00",
         "3",
         "1BHK",
         "31.89",
         "48.22",
         "-77.0",
         "0.86",
         "Low",
         "0",
         "Fountain",
         "1.0"
        ],
        [
         "2428",
         "29/12/2016 00",
         "2",
         "Studio",
         "34.46",
         "36.32",
         "-55.0",
         "1.33",
         "Low",
         "0",
         null,
         "0.0"
        ],
        [
         "2436",
         "31/12/2016 16",
         "3",
         "2BHK",
         "25.51",
         "25.15",
         "-66.0",
         "0.8",
         "Middle",
         "0",
         null,
         "0.0"
        ]
       ],
       "shape": {
        "columns": 11,
        "rows": 126
       }
      },
      "text/html": [
       "<div>\n",
       "<style scoped>\n",
       "    .dataframe tbody tr th:only-of-type {\n",
       "        vertical-align: middle;\n",
       "    }\n",
       "\n",
       "    .dataframe tbody tr th {\n",
       "        vertical-align: top;\n",
       "    }\n",
       "\n",
       "    .dataframe thead th {\n",
       "        text-align: right;\n",
       "    }\n",
       "</style>\n",
       "<table border=\"1\" class=\"dataframe\">\n",
       "  <thead>\n",
       "    <tr style=\"text-align: right;\">\n",
       "      <th></th>\n",
       "      <th>Timestamp</th>\n",
       "      <th>Residents</th>\n",
       "      <th>Apartment_Type</th>\n",
       "      <th>Temperature</th>\n",
       "      <th>Humidity</th>\n",
       "      <th>Water_Price</th>\n",
       "      <th>Period_Consumption_Index</th>\n",
       "      <th>Income_Level</th>\n",
       "      <th>Guests</th>\n",
       "      <th>Amenities</th>\n",
       "      <th>Appliance_Usage</th>\n",
       "    </tr>\n",
       "  </thead>\n",
       "  <tbody>\n",
       "    <tr>\n",
       "      <th>30</th>\n",
       "      <td>21/10/2014 16</td>\n",
       "      <td>2</td>\n",
       "      <td>1BHK</td>\n",
       "      <td>18.49</td>\n",
       "      <td>80.0</td>\n",
       "      <td>-88.0</td>\n",
       "      <td>1.380000</td>\n",
       "      <td>Low</td>\n",
       "      <td>0</td>\n",
       "      <td>NaN</td>\n",
       "      <td>0.0</td>\n",
       "    </tr>\n",
       "    <tr>\n",
       "      <th>158</th>\n",
       "      <td>03/12/2014 08</td>\n",
       "      <td>3</td>\n",
       "      <td>Cottage</td>\n",
       "      <td>15.70</td>\n",
       "      <td>54.69</td>\n",
       "      <td>-44.0</td>\n",
       "      <td>1.220000</td>\n",
       "      <td>Middle</td>\n",
       "      <td>0</td>\n",
       "      <td>NaN</td>\n",
       "      <td>0.0</td>\n",
       "    </tr>\n",
       "    <tr>\n",
       "      <th>277</th>\n",
       "      <td>12/01/2015 00</td>\n",
       "      <td>3</td>\n",
       "      <td>1BHK</td>\n",
       "      <td>25.55</td>\n",
       "      <td>50.33</td>\n",
       "      <td>-11.0</td>\n",
       "      <td>1.070000</td>\n",
       "      <td>Middle</td>\n",
       "      <td>0</td>\n",
       "      <td>NaN</td>\n",
       "      <td>NaN</td>\n",
       "    </tr>\n",
       "    <tr>\n",
       "      <th>364</th>\n",
       "      <td>10/02/2015 00</td>\n",
       "      <td>4</td>\n",
       "      <td>2BHK</td>\n",
       "      <td>31.42</td>\n",
       "      <td>50.89</td>\n",
       "      <td>-88.0</td>\n",
       "      <td>1.160000</td>\n",
       "      <td>Upper Middle</td>\n",
       "      <td>1</td>\n",
       "      <td>NaN</td>\n",
       "      <td>0.0</td>\n",
       "    </tr>\n",
       "    <tr>\n",
       "      <th>450</th>\n",
       "      <td>10/03/2015 16</td>\n",
       "      <td>5</td>\n",
       "      <td>2BHK</td>\n",
       "      <td>21.82</td>\n",
       "      <td>55.81</td>\n",
       "      <td>-22.0</td>\n",
       "      <td>1.460000</td>\n",
       "      <td>Upper Middle</td>\n",
       "      <td>0</td>\n",
       "      <td>Fountain</td>\n",
       "      <td>0.0</td>\n",
       "    </tr>\n",
       "    <tr>\n",
       "      <th>...</th>\n",
       "      <td>...</td>\n",
       "      <td>...</td>\n",
       "      <td>...</td>\n",
       "      <td>...</td>\n",
       "      <td>...</td>\n",
       "      <td>...</td>\n",
       "      <td>...</td>\n",
       "      <td>...</td>\n",
       "      <td>...</td>\n",
       "      <td>...</td>\n",
       "      <td>...</td>\n",
       "    </tr>\n",
       "    <tr>\n",
       "      <th>5846</th>\n",
       "      <td>11/02/2020 08</td>\n",
       "      <td>5</td>\n",
       "      <td>2BHK</td>\n",
       "      <td>29.41</td>\n",
       "      <td>47.54</td>\n",
       "      <td>-99.0</td>\n",
       "      <td>0.820000</td>\n",
       "      <td>Upper Middle</td>\n",
       "      <td>0</td>\n",
       "      <td>Swimming Pool</td>\n",
       "      <td>0.0</td>\n",
       "    </tr>\n",
       "    <tr>\n",
       "      <th>5852</th>\n",
       "      <td>13/02/2020 08</td>\n",
       "      <td>5</td>\n",
       "      <td>Detached</td>\n",
       "      <td>32.62</td>\n",
       "      <td>55.74</td>\n",
       "      <td>-22.0</td>\n",
       "      <td>1.420000</td>\n",
       "      <td>NaN</td>\n",
       "      <td>0</td>\n",
       "      <td>Fountain</td>\n",
       "      <td>0.0</td>\n",
       "    </tr>\n",
       "    <tr>\n",
       "      <th>5883</th>\n",
       "      <td>23/02/2020 16</td>\n",
       "      <td>3</td>\n",
       "      <td>2BHK</td>\n",
       "      <td>34.68</td>\n",
       "      <td>23.31</td>\n",
       "      <td>-22.0</td>\n",
       "      <td>0.910000</td>\n",
       "      <td>Upper Middle</td>\n",
       "      <td>0</td>\n",
       "      <td>Swimming Pool</td>\n",
       "      <td>1.0</td>\n",
       "    </tr>\n",
       "    <tr>\n",
       "      <th>5972</th>\n",
       "      <td>24/03/2020 08</td>\n",
       "      <td>3</td>\n",
       "      <td>NaN</td>\n",
       "      <td>15.62</td>\n",
       "      <td>58.28</td>\n",
       "      <td>-77.0</td>\n",
       "      <td>2.118101</td>\n",
       "      <td>Middle</td>\n",
       "      <td>1</td>\n",
       "      <td>Garden</td>\n",
       "      <td>0.0</td>\n",
       "    </tr>\n",
       "    <tr>\n",
       "      <th>5973</th>\n",
       "      <td>24/03/2020 16</td>\n",
       "      <td>3</td>\n",
       "      <td>2BHK</td>\n",
       "      <td>21.95</td>\n",
       "      <td>68.24</td>\n",
       "      <td>-44.0</td>\n",
       "      <td>0.930000</td>\n",
       "      <td>Upper Middle</td>\n",
       "      <td>0</td>\n",
       "      <td>NaN</td>\n",
       "      <td>0.0</td>\n",
       "    </tr>\n",
       "  </tbody>\n",
       "</table>\n",
       "<p>126 rows × 11 columns</p>\n",
       "</div>"
      ],
      "text/plain": [
       "          Timestamp  Residents Apartment_Type  Temperature Humidity  \\\n",
       "30    21/10/2014 16          2           1BHK        18.49     80.0   \n",
       "158   03/12/2014 08          3        Cottage        15.70    54.69   \n",
       "277   12/01/2015 00          3           1BHK        25.55    50.33   \n",
       "364   10/02/2015 00          4           2BHK        31.42    50.89   \n",
       "450   10/03/2015 16          5           2BHK        21.82    55.81   \n",
       "...             ...        ...            ...          ...      ...   \n",
       "5846  11/02/2020 08          5           2BHK        29.41    47.54   \n",
       "5852  13/02/2020 08          5       Detached        32.62    55.74   \n",
       "5883  23/02/2020 16          3           2BHK        34.68    23.31   \n",
       "5972  24/03/2020 08          3            NaN        15.62    58.28   \n",
       "5973  24/03/2020 16          3           2BHK        21.95    68.24   \n",
       "\n",
       "      Water_Price  Period_Consumption_Index  Income_Level  Guests  \\\n",
       "30          -88.0                  1.380000           Low       0   \n",
       "158         -44.0                  1.220000        Middle       0   \n",
       "277         -11.0                  1.070000        Middle       0   \n",
       "364         -88.0                  1.160000  Upper Middle       1   \n",
       "450         -22.0                  1.460000  Upper Middle       0   \n",
       "...           ...                       ...           ...     ...   \n",
       "5846        -99.0                  0.820000  Upper Middle       0   \n",
       "5852        -22.0                  1.420000           NaN       0   \n",
       "5883        -22.0                  0.910000  Upper Middle       0   \n",
       "5972        -77.0                  2.118101        Middle       1   \n",
       "5973        -44.0                  0.930000  Upper Middle       0   \n",
       "\n",
       "          Amenities  Appliance_Usage  \n",
       "30              NaN              0.0  \n",
       "158             NaN              0.0  \n",
       "277             NaN              NaN  \n",
       "364             NaN              0.0  \n",
       "450        Fountain              0.0  \n",
       "...             ...              ...  \n",
       "5846  Swimming Pool              0.0  \n",
       "5852       Fountain              0.0  \n",
       "5883  Swimming Pool              1.0  \n",
       "5972         Garden              0.0  \n",
       "5973            NaN              0.0  \n",
       "\n",
       "[126 rows x 11 columns]"
      ]
     },
     "execution_count": 86,
     "metadata": {},
     "output_type": "execute_result"
    }
   ],
   "source": [
    "df_test[df_test[\"Water_Price\"] < 0]"
   ]
  },
  {
   "cell_type": "code",
   "execution_count": null,
   "metadata": {},
   "outputs": [],
   "source": []
  }
 ],
 "metadata": {
  "kernelspec": {
   "display_name": ".venv",
   "language": "python",
   "name": "python3"
  },
  "language_info": {
   "codemirror_mode": {
    "name": "ipython",
    "version": 3
   },
   "file_extension": ".py",
   "mimetype": "text/x-python",
   "name": "python",
   "nbconvert_exporter": "python",
   "pygments_lexer": "ipython3",
   "version": "3.12.6"
  }
 },
 "nbformat": 4,
 "nbformat_minor": 2
}
